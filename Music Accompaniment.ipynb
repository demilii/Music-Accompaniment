{
 "cells": [
  {
   "cell_type": "markdown",
   "metadata": {},
   "source": [
    "# Interactive Machine Learning -- Music Accompaniment"
   ]
  },
  {
   "cell_type": "markdown",
   "metadata": {},
   "source": [
    "### Yinmiao Li"
   ]
  },
  {
   "cell_type": "markdown",
   "metadata": {},
   "source": [
    "### Load Packages"
   ]
  },
  {
   "cell_type": "code",
   "execution_count": 268,
   "metadata": {},
   "outputs": [],
   "source": [
    "from pylab import *\n",
    "import copy\n",
    "import pretty_midi\n",
    "import os\n",
    "import librosa             # The librosa library\n",
    "import librosa.display     # librosa's display module (for plotting features)\n",
    "import IPython.display     # IPython's display module (for in-line audio)\n",
    "import matplotlib.pyplot as plt # matplotlib plotting functions\n",
    "import matplotlib.style as ms   # plotting style\n",
    "import numpy as np              # numpy numerical functions\n",
    "ms.use('seaborn-muted')         # fancy plot designs\n",
    "from __future__ import print_function # use the print() function from Python3\n",
    "import random\n",
    "\n",
    "import tensorflow as tf #import tensorflow\n",
    "from tensorflow import keras #import keras from tensorflow\n",
    "from tensorflow.keras.models import Model \n",
    "from tensorflow.keras.layers import Input, LSTM, Dense"
   ]
  },
  {
   "cell_type": "code",
   "execution_count": 191,
   "metadata": {
    "scrolled": true
   },
   "outputs": [
    {
     "name": "stdout",
     "output_type": "stream",
     "text": [
      "Instrument(program=0, is_drum=False, name=\"Aunt Hessie's White Horse\")\n",
      "<class 'pretty_midi.containers.Note'>\n",
      "[Note(start=0.000000, end=0.498958, pitch=74, velocity=105), Note(start=0.500000, end=0.998958, pitch=67, velocity=105), Note(start=1.000000, end=1.498958, pitch=69, velocity=80), Note(start=1.500000, end=1.998958, pitch=71, velocity=95), Note(start=2.000000, end=2.498958, pitch=72, velocity=80), Note(start=2.500000, end=2.748958, pitch=74, velocity=105), Note(start=2.750000, end=3.248958, pitch=74, velocity=80), Note(start=3.250000, end=3.498958, pitch=74, velocity=80), Note(start=3.500000, end=3.998958, pitch=74, velocity=95), Note(start=4.000000, end=4.498958, pitch=74, velocity=80), Note(start=4.500000, end=4.748958, pitch=74, velocity=105), Note(start=4.750000, end=5.248958, pitch=74, velocity=80), Note(start=5.250000, end=5.498958, pitch=74, velocity=80), Note(start=5.500000, end=5.998958, pitch=74, velocity=95), Note(start=6.000000, end=6.498958, pitch=74, velocity=80), Note(start=6.500000, end=6.748958, pitch=74, velocity=105), Note(start=6.750000, end=7.248958, pitch=74, velocity=80), Note(start=7.250000, end=7.498958, pitch=74, velocity=80), Note(start=7.500000, end=7.998958, pitch=74, velocity=95), Note(start=8.000000, end=8.498958, pitch=74, velocity=80), Note(start=8.500000, end=8.998958, pitch=67, velocity=105), Note(start=9.000000, end=9.498958, pitch=69, velocity=80), Note(start=9.500000, end=9.998958, pitch=71, velocity=95), Note(start=10.000000, end=10.498958, pitch=72, velocity=80), Note(start=10.500000, end=10.748958, pitch=74, velocity=105), Note(start=10.750000, end=11.248958, pitch=74, velocity=80), Note(start=11.250000, end=11.498958, pitch=74, velocity=80), Note(start=11.500000, end=11.998958, pitch=74, velocity=95), Note(start=12.000000, end=12.498958, pitch=74, velocity=80), Note(start=12.500000, end=12.998958, pitch=74, velocity=105), Note(start=13.000000, end=13.498958, pitch=72, velocity=80), Note(start=13.500000, end=13.998958, pitch=71, velocity=95), Note(start=14.000000, end=14.498958, pitch=69, velocity=80), Note(start=14.500000, end=15.998958, pitch=67, velocity=105), Note(start=16.000000, end=16.498958, pitch=74, velocity=80), Note(start=16.500000, end=16.998958, pitch=67, velocity=105), Note(start=17.000000, end=17.498958, pitch=69, velocity=80), Note(start=17.500000, end=17.998958, pitch=71, velocity=95), Note(start=18.000000, end=18.498958, pitch=72, velocity=80), Note(start=18.500000, end=18.748958, pitch=74, velocity=105), Note(start=18.750000, end=19.248958, pitch=74, velocity=80), Note(start=19.250000, end=19.498958, pitch=74, velocity=80), Note(start=19.500000, end=19.998958, pitch=74, velocity=95), Note(start=20.000000, end=20.498958, pitch=74, velocity=80), Note(start=20.500000, end=20.748958, pitch=74, velocity=105), Note(start=20.750000, end=21.248958, pitch=74, velocity=80), Note(start=21.250000, end=21.498958, pitch=74, velocity=80), Note(start=21.500000, end=21.998958, pitch=74, velocity=95), Note(start=22.000000, end=22.498958, pitch=74, velocity=80), Note(start=22.500000, end=22.748958, pitch=74, velocity=105), Note(start=22.750000, end=23.248958, pitch=74, velocity=80), Note(start=23.250000, end=23.498958, pitch=74, velocity=80), Note(start=23.500000, end=23.998958, pitch=74, velocity=95), Note(start=24.000000, end=24.498958, pitch=74, velocity=80), Note(start=24.500000, end=24.998958, pitch=67, velocity=105), Note(start=25.000000, end=25.498958, pitch=69, velocity=80), Note(start=25.500000, end=25.998958, pitch=71, velocity=95), Note(start=26.000000, end=26.498958, pitch=72, velocity=80), Note(start=26.500000, end=26.748958, pitch=74, velocity=105), Note(start=26.750000, end=27.248958, pitch=74, velocity=80), Note(start=27.250000, end=27.498958, pitch=74, velocity=80), Note(start=27.500000, end=27.998958, pitch=74, velocity=95), Note(start=28.000000, end=28.498958, pitch=74, velocity=80), Note(start=28.500000, end=28.998958, pitch=74, velocity=105), Note(start=29.000000, end=29.498958, pitch=72, velocity=80), Note(start=29.500000, end=29.998958, pitch=71, velocity=95), Note(start=30.000000, end=30.498958, pitch=69, velocity=80), Note(start=30.500000, end=31.998958, pitch=67, velocity=105), Note(start=32.000000, end=32.498958, pitch=74, velocity=80), Note(start=32.500000, end=32.998958, pitch=67, velocity=105), Note(start=33.000000, end=33.498958, pitch=69, velocity=80), Note(start=33.500000, end=33.998958, pitch=71, velocity=95), Note(start=34.000000, end=34.498958, pitch=72, velocity=80), Note(start=34.500000, end=34.748958, pitch=74, velocity=105), Note(start=34.750000, end=35.248958, pitch=74, velocity=80), Note(start=35.250000, end=35.498958, pitch=74, velocity=80), Note(start=35.500000, end=35.998958, pitch=74, velocity=95), Note(start=36.000000, end=36.498958, pitch=74, velocity=80), Note(start=36.500000, end=36.748958, pitch=74, velocity=105), Note(start=36.750000, end=37.248958, pitch=74, velocity=80), Note(start=37.250000, end=37.498958, pitch=74, velocity=80), Note(start=37.500000, end=37.998958, pitch=74, velocity=95), Note(start=38.000000, end=38.498958, pitch=74, velocity=80), Note(start=38.500000, end=38.748958, pitch=74, velocity=105), Note(start=38.750000, end=39.248958, pitch=74, velocity=80), Note(start=39.250000, end=39.498958, pitch=74, velocity=80), Note(start=39.500000, end=39.998958, pitch=74, velocity=95), Note(start=40.000000, end=40.498958, pitch=74, velocity=80), Note(start=40.500000, end=40.998958, pitch=67, velocity=105), Note(start=41.000000, end=41.498958, pitch=69, velocity=80), Note(start=41.500000, end=41.998958, pitch=71, velocity=95), Note(start=42.000000, end=42.498958, pitch=72, velocity=80), Note(start=42.500000, end=42.748958, pitch=74, velocity=105), Note(start=42.750000, end=43.248958, pitch=74, velocity=80), Note(start=43.250000, end=43.498958, pitch=74, velocity=80), Note(start=43.500000, end=43.998958, pitch=74, velocity=95), Note(start=44.000000, end=44.498958, pitch=74, velocity=80), Note(start=44.500000, end=44.998958, pitch=74, velocity=105), Note(start=45.000000, end=45.498958, pitch=72, velocity=80), Note(start=45.500000, end=45.998958, pitch=71, velocity=95), Note(start=46.000000, end=46.498958, pitch=69, velocity=80), Note(start=46.500000, end=47.998958, pitch=67, velocity=105), Note(start=48.000000, end=48.498958, pitch=74, velocity=80), Note(start=48.500000, end=48.998958, pitch=67, velocity=105), Note(start=49.000000, end=49.498958, pitch=69, velocity=80), Note(start=49.500000, end=49.998958, pitch=71, velocity=95), Note(start=50.000000, end=50.498958, pitch=72, velocity=80), Note(start=50.500000, end=50.748958, pitch=74, velocity=105), Note(start=50.750000, end=51.248958, pitch=74, velocity=80), Note(start=51.250000, end=51.498958, pitch=74, velocity=80), Note(start=51.500000, end=51.998958, pitch=74, velocity=95), Note(start=52.000000, end=52.498958, pitch=74, velocity=80), Note(start=52.500000, end=52.748958, pitch=74, velocity=105), Note(start=52.750000, end=53.248958, pitch=74, velocity=80), Note(start=53.250000, end=53.498958, pitch=74, velocity=80), Note(start=53.500000, end=53.998958, pitch=74, velocity=95), Note(start=54.000000, end=54.498958, pitch=74, velocity=80), Note(start=54.500000, end=54.748958, pitch=74, velocity=105), Note(start=54.750000, end=55.248958, pitch=74, velocity=80), Note(start=55.250000, end=55.498958, pitch=74, velocity=80), Note(start=55.500000, end=55.998958, pitch=74, velocity=95), Note(start=56.000000, end=56.498958, pitch=74, velocity=80), Note(start=56.500000, end=56.998958, pitch=67, velocity=105), Note(start=57.000000, end=57.498958, pitch=69, velocity=80), Note(start=57.500000, end=57.998958, pitch=71, velocity=95), Note(start=58.000000, end=58.498958, pitch=72, velocity=80), Note(start=58.500000, end=58.748958, pitch=74, velocity=105), Note(start=58.750000, end=59.248958, pitch=74, velocity=80), Note(start=59.250000, end=59.498958, pitch=74, velocity=80), Note(start=59.500000, end=59.998958, pitch=74, velocity=95), Note(start=60.000000, end=60.498958, pitch=74, velocity=80), Note(start=60.500000, end=60.998958, pitch=74, velocity=105), Note(start=61.000000, end=61.498958, pitch=72, velocity=80), Note(start=61.500000, end=61.998958, pitch=71, velocity=95), Note(start=62.000000, end=62.498958, pitch=69, velocity=80), Note(start=62.500000, end=63.998958, pitch=67, velocity=105), Note(start=64.000000, end=64.498958, pitch=79, velocity=80), Note(start=64.500000, end=64.998958, pitch=79, velocity=95), Note(start=65.000000, end=65.498958, pitch=78, velocity=80), Note(start=65.500000, end=65.998958, pitch=77, velocity=95), Note(start=66.000000, end=66.248958, pitch=76, velocity=105), Note(start=66.250000, end=66.748958, pitch=76, velocity=80), Note(start=66.750000, end=66.998958, pitch=76, velocity=80), Note(start=67.000000, end=67.498958, pitch=76, velocity=95), Note(start=67.500000, end=67.998958, pitch=76, velocity=80), Note(start=68.000000, end=68.498958, pitch=79, velocity=105), Note(start=68.500000, end=68.998958, pitch=79, velocity=80), Note(start=69.000000, end=69.498958, pitch=78, velocity=95), Note(start=69.500000, end=69.998958, pitch=76, velocity=80), Note(start=70.000000, end=70.248958, pitch=74, velocity=105), Note(start=70.250000, end=70.748958, pitch=74, velocity=80), Note(start=70.750000, end=70.998958, pitch=74, velocity=80), Note(start=71.000000, end=71.498958, pitch=74, velocity=95), Note(start=71.500000, end=71.998958, pitch=74, velocity=80), Note(start=72.000000, end=72.498958, pitch=74, velocity=105), Note(start=72.500000, end=72.998958, pitch=74, velocity=80), Note(start=73.000000, end=73.498958, pitch=76, velocity=95), Note(start=73.500000, end=73.998958, pitch=74, velocity=80), Note(start=74.000000, end=74.248958, pitch=78, velocity=105), Note(start=74.250000, end=74.748958, pitch=78, velocity=80), Note(start=74.750000, end=74.998958, pitch=78, velocity=80), Note(start=75.000000, end=75.498958, pitch=78, velocity=95), Note(start=75.500000, end=75.998958, pitch=78, velocity=80), Note(start=76.000000, end=76.498958, pitch=74, velocity=105), Note(start=76.500000, end=76.998958, pitch=72, velocity=80), Note(start=77.000000, end=77.498958, pitch=71, velocity=95), Note(start=77.500000, end=77.998958, pitch=69, velocity=80), Note(start=78.000000, end=79.498958, pitch=67, velocity=105), Note(start=79.500000, end=79.998958, pitch=79, velocity=80), Note(start=80.000000, end=80.498958, pitch=79, velocity=95), Note(start=80.500000, end=80.998958, pitch=78, velocity=80), Note(start=81.000000, end=81.498958, pitch=77, velocity=95), Note(start=81.500000, end=81.748958, pitch=76, velocity=105), Note(start=81.750000, end=82.248958, pitch=76, velocity=80), Note(start=82.250000, end=82.498958, pitch=76, velocity=80), Note(start=82.500000, end=82.998958, pitch=76, velocity=95), Note(start=83.000000, end=83.498958, pitch=76, velocity=80), Note(start=83.500000, end=83.998958, pitch=79, velocity=105), Note(start=84.000000, end=84.498958, pitch=79, velocity=80), Note(start=84.500000, end=84.998958, pitch=78, velocity=95), Note(start=85.000000, end=85.498958, pitch=76, velocity=80), Note(start=85.500000, end=85.748958, pitch=74, velocity=105), Note(start=85.750000, end=86.248958, pitch=74, velocity=80), Note(start=86.250000, end=86.498958, pitch=74, velocity=80), Note(start=86.500000, end=86.998958, pitch=74, velocity=95), Note(start=87.000000, end=87.498958, pitch=74, velocity=80), Note(start=87.500000, end=87.998958, pitch=74, velocity=105), Note(start=88.000000, end=88.498958, pitch=74, velocity=80), Note(start=88.500000, end=88.998958, pitch=76, velocity=95), Note(start=89.000000, end=89.498958, pitch=74, velocity=80), Note(start=89.500000, end=89.748958, pitch=78, velocity=105), Note(start=89.750000, end=90.248958, pitch=78, velocity=80), Note(start=90.250000, end=90.498958, pitch=78, velocity=80), Note(start=90.500000, end=90.998958, pitch=78, velocity=95), Note(start=91.000000, end=91.498958, pitch=78, velocity=80), Note(start=91.500000, end=91.998958, pitch=74, velocity=105), Note(start=92.000000, end=92.498958, pitch=72, velocity=80), Note(start=92.500000, end=92.998958, pitch=71, velocity=95), Note(start=93.000000, end=93.498958, pitch=69, velocity=80), Note(start=93.500000, end=94.998958, pitch=67, velocity=105)]\n",
      "Instrument(program=0, is_drum=False, name=\" Nottingham Music Database\")\n",
      "<class 'pretty_midi.containers.Note'>\n",
      "[Note(start=0.500000, end=2.498958, pitch=55, velocity=75), Note(start=0.500000, end=2.498958, pitch=59, velocity=75), Note(start=0.500000, end=2.498958, pitch=62, velocity=75), Note(start=2.500000, end=4.498958, pitch=55, velocity=75), Note(start=2.500000, end=4.498958, pitch=59, velocity=75), Note(start=2.500000, end=4.498958, pitch=62, velocity=75), Note(start=4.500000, end=6.498958, pitch=52, velocity=75), Note(start=4.500000, end=6.498958, pitch=55, velocity=75), Note(start=4.500000, end=6.498958, pitch=59, velocity=75), Note(start=6.500000, end=8.498958, pitch=50, velocity=75), Note(start=6.500000, end=8.498958, pitch=54, velocity=75), Note(start=6.500000, end=8.498958, pitch=57, velocity=75), Note(start=6.500000, end=8.498958, pitch=60, velocity=75), Note(start=8.500000, end=10.498958, pitch=55, velocity=75), Note(start=8.500000, end=10.498958, pitch=59, velocity=75), Note(start=8.500000, end=10.498958, pitch=62, velocity=75), Note(start=10.500000, end=12.498958, pitch=55, velocity=75), Note(start=10.500000, end=12.498958, pitch=59, velocity=75), Note(start=10.500000, end=12.498958, pitch=62, velocity=75), Note(start=12.500000, end=14.498958, pitch=50, velocity=75), Note(start=12.500000, end=14.498958, pitch=54, velocity=75), Note(start=12.500000, end=14.498958, pitch=57, velocity=75), Note(start=12.500000, end=14.498958, pitch=60, velocity=75), Note(start=14.500000, end=16.498958, pitch=55, velocity=75), Note(start=14.500000, end=16.498958, pitch=59, velocity=75), Note(start=14.500000, end=16.498958, pitch=62, velocity=75), Note(start=16.500000, end=18.498958, pitch=55, velocity=75), Note(start=16.500000, end=18.498958, pitch=59, velocity=75), Note(start=16.500000, end=18.498958, pitch=62, velocity=75), Note(start=18.500000, end=20.498958, pitch=55, velocity=75), Note(start=18.500000, end=20.498958, pitch=59, velocity=75), Note(start=18.500000, end=20.498958, pitch=62, velocity=75), Note(start=20.500000, end=22.498958, pitch=52, velocity=75), Note(start=20.500000, end=22.498958, pitch=55, velocity=75), Note(start=20.500000, end=22.498958, pitch=59, velocity=75), Note(start=22.500000, end=24.498958, pitch=50, velocity=75), Note(start=22.500000, end=24.498958, pitch=54, velocity=75), Note(start=22.500000, end=24.498958, pitch=57, velocity=75), Note(start=22.500000, end=24.498958, pitch=60, velocity=75), Note(start=24.500000, end=26.498958, pitch=55, velocity=75), Note(start=24.500000, end=26.498958, pitch=59, velocity=75), Note(start=24.500000, end=26.498958, pitch=62, velocity=75), Note(start=26.500000, end=28.498958, pitch=55, velocity=75), Note(start=26.500000, end=28.498958, pitch=59, velocity=75), Note(start=26.500000, end=28.498958, pitch=62, velocity=75), Note(start=28.500000, end=30.498958, pitch=50, velocity=75), Note(start=28.500000, end=30.498958, pitch=54, velocity=75), Note(start=28.500000, end=30.498958, pitch=57, velocity=75), Note(start=28.500000, end=30.498958, pitch=60, velocity=75), Note(start=30.500000, end=32.498958, pitch=55, velocity=75), Note(start=30.500000, end=32.498958, pitch=59, velocity=75), Note(start=30.500000, end=32.498958, pitch=62, velocity=75), Note(start=32.500000, end=34.498958, pitch=55, velocity=75), Note(start=32.500000, end=34.498958, pitch=59, velocity=75), Note(start=32.500000, end=34.498958, pitch=62, velocity=75), Note(start=34.500000, end=36.498958, pitch=55, velocity=75), Note(start=34.500000, end=36.498958, pitch=59, velocity=75), Note(start=34.500000, end=36.498958, pitch=62, velocity=75), Note(start=36.500000, end=38.498958, pitch=52, velocity=75), Note(start=36.500000, end=38.498958, pitch=55, velocity=75), Note(start=36.500000, end=38.498958, pitch=59, velocity=75), Note(start=38.500000, end=40.498958, pitch=50, velocity=75), Note(start=38.500000, end=40.498958, pitch=54, velocity=75), Note(start=38.500000, end=40.498958, pitch=57, velocity=75), Note(start=38.500000, end=40.498958, pitch=60, velocity=75), Note(start=40.500000, end=42.498958, pitch=55, velocity=75), Note(start=40.500000, end=42.498958, pitch=59, velocity=75), Note(start=40.500000, end=42.498958, pitch=62, velocity=75), Note(start=42.500000, end=44.498958, pitch=55, velocity=75), Note(start=42.500000, end=44.498958, pitch=59, velocity=75), Note(start=42.500000, end=44.498958, pitch=62, velocity=75), Note(start=44.500000, end=46.498958, pitch=50, velocity=75), Note(start=44.500000, end=46.498958, pitch=54, velocity=75), Note(start=44.500000, end=46.498958, pitch=57, velocity=75), Note(start=44.500000, end=46.498958, pitch=60, velocity=75), Note(start=46.500000, end=48.498958, pitch=55, velocity=75), Note(start=46.500000, end=48.498958, pitch=59, velocity=75), Note(start=46.500000, end=48.498958, pitch=62, velocity=75), Note(start=48.500000, end=50.498958, pitch=55, velocity=75), Note(start=48.500000, end=50.498958, pitch=59, velocity=75), Note(start=48.500000, end=50.498958, pitch=62, velocity=75), Note(start=50.500000, end=52.498958, pitch=55, velocity=75), Note(start=50.500000, end=52.498958, pitch=59, velocity=75), Note(start=50.500000, end=52.498958, pitch=62, velocity=75), Note(start=52.500000, end=54.498958, pitch=52, velocity=75), Note(start=52.500000, end=54.498958, pitch=55, velocity=75), Note(start=52.500000, end=54.498958, pitch=59, velocity=75), Note(start=54.500000, end=56.498958, pitch=50, velocity=75), Note(start=54.500000, end=56.498958, pitch=54, velocity=75), Note(start=54.500000, end=56.498958, pitch=57, velocity=75), Note(start=54.500000, end=56.498958, pitch=60, velocity=75), Note(start=56.500000, end=58.498958, pitch=55, velocity=75), Note(start=56.500000, end=58.498958, pitch=59, velocity=75), Note(start=56.500000, end=58.498958, pitch=62, velocity=75), Note(start=58.500000, end=60.498958, pitch=55, velocity=75), Note(start=58.500000, end=60.498958, pitch=59, velocity=75), Note(start=58.500000, end=60.498958, pitch=62, velocity=75), Note(start=60.500000, end=62.498958, pitch=50, velocity=75), Note(start=60.500000, end=62.498958, pitch=54, velocity=75), Note(start=60.500000, end=62.498958, pitch=57, velocity=75), Note(start=60.500000, end=62.498958, pitch=60, velocity=75), Note(start=62.500000, end=64.498958, pitch=55, velocity=75), Note(start=62.500000, end=64.498958, pitch=59, velocity=75), Note(start=62.500000, end=64.498958, pitch=62, velocity=75), Note(start=66.000000, end=67.998958, pitch=48, velocity=75), Note(start=66.000000, end=67.998958, pitch=52, velocity=75), Note(start=66.000000, end=67.998958, pitch=55, velocity=75), Note(start=68.000000, end=69.998958, pitch=48, velocity=75), Note(start=68.000000, end=69.998958, pitch=52, velocity=75), Note(start=68.000000, end=69.998958, pitch=55, velocity=75), Note(start=70.000000, end=71.998958, pitch=55, velocity=75), Note(start=70.000000, end=71.998958, pitch=59, velocity=75), Note(start=70.000000, end=71.998958, pitch=62, velocity=75), Note(start=72.000000, end=73.998958, pitch=55, velocity=75), Note(start=72.000000, end=73.998958, pitch=59, velocity=75), Note(start=72.000000, end=73.998958, pitch=62, velocity=75), Note(start=74.000000, end=75.998958, pitch=50, velocity=75), Note(start=74.000000, end=75.998958, pitch=54, velocity=75), Note(start=74.000000, end=75.998958, pitch=57, velocity=75), Note(start=74.000000, end=75.998958, pitch=60, velocity=75), Note(start=76.000000, end=77.998958, pitch=50, velocity=75), Note(start=76.000000, end=77.998958, pitch=54, velocity=75), Note(start=76.000000, end=77.998958, pitch=57, velocity=75), Note(start=76.000000, end=77.998958, pitch=60, velocity=75), Note(start=78.000000, end=79.998958, pitch=55, velocity=75), Note(start=78.000000, end=79.998958, pitch=59, velocity=75), Note(start=78.000000, end=79.998958, pitch=62, velocity=75), Note(start=81.500000, end=83.498958, pitch=48, velocity=75), Note(start=81.500000, end=83.498958, pitch=52, velocity=75), Note(start=81.500000, end=83.498958, pitch=55, velocity=75), Note(start=83.500000, end=85.498958, pitch=48, velocity=75), Note(start=83.500000, end=85.498958, pitch=52, velocity=75), Note(start=83.500000, end=85.498958, pitch=55, velocity=75), Note(start=85.500000, end=87.498958, pitch=55, velocity=75), Note(start=85.500000, end=87.498958, pitch=59, velocity=75), Note(start=85.500000, end=87.498958, pitch=62, velocity=75), Note(start=87.500000, end=89.498958, pitch=55, velocity=75), Note(start=87.500000, end=89.498958, pitch=59, velocity=75), Note(start=87.500000, end=89.498958, pitch=62, velocity=75), Note(start=89.500000, end=91.498958, pitch=50, velocity=75), Note(start=89.500000, end=91.498958, pitch=54, velocity=75), Note(start=89.500000, end=91.498958, pitch=57, velocity=75), Note(start=89.500000, end=91.498958, pitch=60, velocity=75), Note(start=91.500000, end=93.498958, pitch=50, velocity=75), Note(start=91.500000, end=93.498958, pitch=54, velocity=75), Note(start=91.500000, end=93.498958, pitch=57, velocity=75), Note(start=91.500000, end=93.498958, pitch=60, velocity=75), Note(start=93.500000, end=95.498958, pitch=55, velocity=75), Note(start=93.500000, end=95.498958, pitch=59, velocity=75), Note(start=93.500000, end=95.498958, pitch=62, velocity=75)]\n"
     ]
    }
   ],
   "source": [
    "# try with pretty_midi\n",
    "midi_test = pretty_midi.PrettyMIDI('Nottingham/train/hpps_simple_chords_37.mid') #load one midi data for trying\n",
    "for itm in midi_test.instruments:\n",
    "    print(itm)\n",
    "    print(type(itm.notes[2]))\n",
    "    print(itm.notes)"
   ]
  },
  {
   "cell_type": "code",
   "execution_count": 44,
   "metadata": {
    "scrolled": true
   },
   "outputs": [
    {
     "name": "stdout",
     "output_type": "stream",
     "text": [
      "['Nottingham/train/jigs_simple_chords_36.mid', 'Nottingham/train/jigs_simple_chords_159.mid', 'Nottingham/train/jigs_simple_chords_165.mid', 'Nottingham/train/jigs_simple_chords_171.mid', 'Nottingham/train/reels_simple_chords_279.mid', 'Nottingham/train/jigs_simple_chords_213.mid', 'Nottingham/train/jigs_simple_chords_207.mid', 'Nottingham/train/playford_simple_chords_13.mid', 'Nottingham/train/reels_simple_chords_127.mid', 'Nottingham/train/reels_simple_chords_133.mid', 'Nottingham/train/xmas_simple_chords_9.mid', 'Nottingham/train/hpps_simple_chords_21.mid', 'Nottingham/train/reels_simple_chords_319.mid', 'Nottingham/train/reels_simple_chords_325.mid', 'Nottingham/train/reels_simple_chords_457.mid', 'Nottingham/train/reels_simple_chords_331.mid', 'Nottingham/train/reels_simple_chords_456.mid', 'Nottingham/train/reels_simple_chords_330.mid', 'Nottingham/train/reels_simple_chords_324.mid', 'Nottingham/train/reels_simple_chords_318.mid', 'Nottingham/train/hpps_simple_chords_20.mid', 'Nottingham/train/reels_simple_chords_132.mid', 'Nottingham/train/xmas_simple_chords_8.mid', 'Nottingham/train/reels_simple_chords_126.mid', 'Nottingham/train/playford_simple_chords_12.mid', 'Nottingham/train/jigs_simple_chords_206.mid', 'Nottingham/train/jigs_simple_chords_212.mid', 'Nottingham/train/reels_simple_chords_278.mid', 'Nottingham/train/jigs_simple_chords_170.mid', 'Nottingham/train/jigs_simple_chords_164.mid', 'Nottingham/train/jigs_simple_chords_37.mid', 'Nottingham/train/jigs_simple_chords_158.mid', 'Nottingham/train/jigs_simple_chords_21.mid', 'Nottingham/train/reels_simple_chords_285.mid', 'Nottingham/train/reels_simple_chords_291.mid', 'Nottingham/train/jigs_simple_chords_199.mid', 'Nottingham/train/reels_simple_chords_246.mid', 'Nottingham/train/reels_simple_chords_252.mid', 'Nottingham/train/jigs_simple_chords_204.mid', 'Nottingham/train/reels_simple_chords_15.mid', 'Nottingham/train/hpps_simple_chords_6.mid', 'Nottingham/train/jigs_simple_chords_210.mid', 'Nottingham/train/hpps_simple_chords_36.mid', 'Nottingham/train/reels_simple_chords_332.mid', 'Nottingham/train/reels_simple_chords_440.mid', 'Nottingham/train/reels_simple_chords_326.mid', 'Nottingham/train/reels_simple_chords_441.mid', 'Nottingham/train/reels_simple_chords_327.mid', 'Nottingham/train/reels_simple_chords_333.mid', 'Nottingham/train/hpps_simple_chords_37.mid', 'Nottingham/train/jigs_simple_chords_211.mid', 'Nottingham/train/jigs_simple_chords_205.mid', 'Nottingham/train/reels_simple_chords_14.mid', 'Nottingham/train/hpps_simple_chords_7.mid', 'Nottingham/train/reels_simple_chords_253.mid', 'Nottingham/train/reels_simple_chords_247.mid', 'Nottingham/train/jigs_simple_chords_198.mid', 'Nottingham/train/reels_simple_chords_290.mid', 'Nottingham/train/reels_simple_chords_284.mid', 'Nottingham/train/jigs_simple_chords_20.mid', 'Nottingham/train/jigs_simple_chords_177.mid', 'Nottingham/train/jigs_simple_chords_18.mid', 'Nottingham/train/waltzes_simple_chords_48.mid', 'Nottingham/train/reels_simple_chords_294.mid', 'Nottingham/train/jigs_simple_chords_163.mid', 'Nottingham/train/jigs_simple_chords_24.mid', 'Nottingham/train/jigs_simple_chords_30.mid', 'Nottingham/train/reels_simple_chords_243.mid', 'Nottingham/train/jigs_simple_chords_188.mid', 'Nottingham/train/waltzes_simple_chords_8.mid', 'Nottingham/train/hpps_simple_chords_3.mid', 'Nottingham/train/jigs_simple_chords_201.mid', 'Nottingham/train/jigs_simple_chords_229.mid', 'Nottingham/train/reels_simple_chords_38.mid', 'Nottingham/train/reels_simple_chords_135.mid', 'Nottingham/train/reels_simple_chords_121.mid', 'Nottingham/train/playford_simple_chords_15.mid', 'Nottingham/train/reels_simple_chords_109.mid', 'Nottingham/train/hpps_simple_chords_33.mid', 'Nottingham/train/hpps_simple_chords_27.mid', 'Nottingham/train/reels_simple_chords_451.mid', 'Nottingham/train/reels_simple_chords_337.mid', 'Nottingham/train/reels_simple_chords_445.mid', 'Nottingham/train/reels_simple_chords_444.mid', 'Nottingham/train/reels_simple_chords_450.mid', 'Nottingham/train/reels_simple_chords_336.mid', 'Nottingham/train/hpps_simple_chords_26.mid', 'Nottingham/train/hpps_simple_chords_32.mid', 'Nottingham/train/reels_simple_chords_108.mid', 'Nottingham/train/playford_simple_chords_14.mid', 'Nottingham/train/reels_simple_chords_120.mid', 'Nottingham/train/reels_simple_chords_134.mid', 'Nottingham/train/jigs_simple_chords_228.mid', 'Nottingham/train/reels_simple_chords_39.mid', 'Nottingham/train/hpps_simple_chords_2.mid', 'Nottingham/train/jigs_simple_chords_200.mid', 'Nottingham/train/waltzes_simple_chords_9.mid', 'Nottingham/train/jigs_simple_chords_189.mid', 'Nottingham/train/reels_simple_chords_242.mid', 'Nottingham/train/jigs_simple_chords_31.mid', 'Nottingham/train/jigs_simple_chords_25.mid', 'Nottingham/train/reels_simple_chords_295.mid', 'Nottingham/train/jigs_simple_chords_162.mid', 'Nottingham/train/jigs_simple_chords_176.mid', 'Nottingham/train/waltzes_simple_chords_49.mid', 'Nottingham/train/jigs_simple_chords_19.mid', 'Nottingham/train/reels_simple_chords_297.mid', 'Nottingham/train/reels_simple_chords_283.mid', 'Nottingham/train/jigs_simple_chords_174.mid', 'Nottingham/train/jigs_simple_chords_33.mid', 'Nottingham/train/jigs_simple_chords_27.mid', 'Nottingham/train/reels_simple_chords_254.mid', 'Nottingham/train/reels_simple_chords_240.mid', 'Nottingham/train/ashover_simple_chords_9.mid', 'Nottingham/train/jigs_simple_chords_216.mid', 'Nottingham/train/reels_simple_chords_13.mid', 'Nottingham/train/reels_simple_chords_122.mid', 'Nottingham/train/hpps_simple_chords_18.mid', 'Nottingham/train/hpps_simple_chords_24.mid', 'Nottingham/train/hpps_simple_chords_30.mid', 'Nottingham/train/reels_simple_chords_446.mid', 'Nottingham/train/reels_simple_chords_320.mid', 'Nottingham/train/reels_simple_chords_452.mid', 'Nottingham/train/reels_simple_chords_308.mid', 'Nottingham/train/reels_simple_chords_309.mid', 'Nottingham/train/reels_simple_chords_453.mid', 'Nottingham/train/reels_simple_chords_447.mid', 'Nottingham/train/reels_simple_chords_321.mid', 'Nottingham/train/hpps_simple_chords_31.mid', 'Nottingham/train/hpps_simple_chords_25.mid', 'Nottingham/train/hpps_simple_chords_19.mid', 'Nottingham/train/reels_simple_chords_123.mid', 'Nottingham/train/reels_simple_chords_12.mid', 'Nottingham/train/hpps_simple_chords_1.mid', 'Nottingham/train/jigs_simple_chords_217.mid', 'Nottingham/train/ashover_simple_chords_8.mid', 'Nottingham/train/reels_simple_chords_241.mid', 'Nottingham/train/reels_simple_chords_255.mid', 'Nottingham/train/jigs_simple_chords_26.mid', 'Nottingham/train/jigs_simple_chords_32.mid', 'Nottingham/train/reels_simple_chords_282.mid', 'Nottingham/train/jigs_simple_chords_175.mid', 'Nottingham/train/reels_simple_chords_296.mid', 'Nottingham/train/jigs_simple_chords_55.mid', 'Nottingham/train/jigs_simple_chords_69.mid', 'Nottingham/train/waltzes_simple_chords_39.mid', 'Nottingham/train/slip_simple_chords_8.mid', 'Nottingham/train/jigs_simple_chords_96.mid', 'Nottingham/train/jigs_simple_chords_338.mid', 'Nottingham/train/morris_simple_chords_1.mid', 'Nottingham/train/jigs_simple_chords_258.mid', 'Nottingham/train/reels_simple_chords_49.mid', 'Nottingham/train/reels_simple_chords_187.mid', 'Nottingham/train/reels_simple_chords_61.mid', 'Nottingham/train/jigs_simple_chords_270.mid', 'Nottingham/train/jigs_simple_chords_264.mid', 'Nottingham/train/reels_simple_chords_75.mid', 'Nottingham/train/reels_simple_chords_193.mid', 'Nottingham/train/reels_simple_chords_2.mid', 'Nottingham/train/reels_simple_chords_144.mid', 'Nottingham/train/morris_simple_chords_15.mid', 'Nottingham/train/reels_simple_chords_150.mid', 'Nottingham/train/hpps_simple_chords_42.mid', 'Nottingham/train/hpps_simple_chords_56.mid', 'Nottingham/train/reels_simple_chords_385.mid', 'Nottingham/train/reels_simple_chords_391.mid', 'Nottingham/train/reels_simple_chords_408.mid', 'Nottingham/train/reels_simple_chords_420.mid', 'Nottingham/train/reels_simple_chords_434.mid', 'Nottingham/train/reels_simple_chords_435.mid', 'Nottingham/train/reels_simple_chords_421.mid', 'Nottingham/train/reels_simple_chords_409.mid', 'Nottingham/train/reels_simple_chords_390.mid', 'Nottingham/train/reels_simple_chords_384.mid', 'Nottingham/train/hpps_simple_chords_57.mid', 'Nottingham/train/hpps_simple_chords_43.mid', 'Nottingham/train/morris_simple_chords_14.mid', 'Nottingham/train/reels_simple_chords_151.mid', 'Nottingham/train/reels_simple_chords_145.mid', 'Nottingham/train/reels_simple_chords_3.mid', 'Nottingham/train/jigs_simple_chords_265.mid', 'Nottingham/train/reels_simple_chords_74.mid', 'Nottingham/train/reels_simple_chords_192.mid', 'Nottingham/train/reels_simple_chords_186.mid', 'Nottingham/train/reels_simple_chords_60.mid', 'Nottingham/train/jigs_simple_chords_271.mid', 'Nottingham/train/jigs_simple_chords_259.mid', 'Nottingham/train/reels_simple_chords_48.mid', 'Nottingham/train/jigs_simple_chords_339.mid', 'Nottingham/train/jigs_simple_chords_97.mid', 'Nottingham/train/slip_simple_chords_9.mid', 'Nottingham/train/waltzes_simple_chords_38.mid', 'Nottingham/train/jigs_simple_chords_68.mid', 'Nottingham/train/jigs_simple_chords_54.mid', 'Nottingham/train/jigs_simple_chords_42.mid', 'Nottingham/train/waltzes_simple_chords_12.mid', 'Nottingham/train/jigs_simple_chords_56.mid', 'Nottingham/train/jigs_simple_chords_139.mid', 'Nottingham/train/jigs_simple_chords_111.mid', 'Nottingham/train/jigs_simple_chords_105.mid', 'Nottingham/train/jigs_simple_chords_81.mid', 'Nottingham/train/reels_simple_chords_219.mid', 'Nottingham/train/reels_simple_chords_225.mid', 'Nottingham/train/reels_simple_chords_231.mid', 'Nottingham/train/morris_simple_chords_2.mid', 'Nottingham/train/jigs_simple_chords_313.mid', 'Nottingham/train/jigs_simple_chords_307.mid', 'Nottingham/train/playford_simple_chords_7.mid', 'Nottingham/train/jigs_simple_chords_267.mid', 'Nottingham/train/jigs_simple_chords_273.mid', 'Nottingham/train/reels_simple_chords_62.mid', 'Nottingham/train/reels_simple_chords_1.mid', 'Nottingham/train/reels_simple_chords_153.mid', 'Nottingham/train/reels_simple_chords_147.mid', 'Nottingham/train/hpps_simple_chords_55.mid', 'Nottingham/train/reels_simple_chords_392.mid', 'Nottingham/train/reels_simple_chords_386.mid', 'Nottingham/train/ashover_simple_chords_14.mid', 'Nottingham/train/reels_simple_chords_379.mid', 'Nottingham/train/reels_simple_chords_351.mid', 'Nottingham/train/reels_simple_chords_345.mid', 'Nottingham/train/reels_simple_chords_423.mid', 'Nottingham/train/reels_simple_chords_344.mid', 'Nottingham/train/reels_simple_chords_422.mid', 'Nottingham/train/reels_simple_chords_350.mid', 'Nottingham/train/reels_simple_chords_378.mid', 'Nottingham/train/reels_simple_chords_387.mid', 'Nottingham/train/ashover_simple_chords_15.mid', 'Nottingham/train/reels_simple_chords_393.mid', 'Nottingham/train/hpps_simple_chords_54.mid', 'Nottingham/train/reels_simple_chords_146.mid', 'Nottingham/train/reels_simple_chords_152.mid', 'Nottingham/train/jigs_simple_chords_272.mid', 'Nottingham/train/reels_simple_chords_63.mid', 'Nottingham/train/jigs_simple_chords_266.mid', 'Nottingham/train/playford_simple_chords_6.mid', 'Nottingham/train/jigs_simple_chords_306.mid', 'Nottingham/train/jigs_simple_chords_312.mid', 'Nottingham/train/morris_simple_chords_3.mid', 'Nottingham/train/reels_simple_chords_230.mid', 'Nottingham/train/reels_simple_chords_224.mid', 'Nottingham/train/reels_simple_chords_218.mid', 'Nottingham/train/jigs_simple_chords_80.mid', 'Nottingham/train/jigs_simple_chords_104.mid', 'Nottingham/train/jigs_simple_chords_110.mid', 'Nottingham/train/jigs_simple_chords_57.mid', 'Nottingham/train/jigs_simple_chords_138.mid', 'Nottingham/train/waltzes_simple_chords_13.mid', 'Nottingham/train/jigs_simple_chords_43.mid', 'Nottingham/train/jigs_simple_chords_114.mid', 'Nottingham/train/jigs_simple_chords_128.mid', 'Nottingham/train/reels_simple_chords_234.mid', 'Nottingham/train/jigs_simple_chords_84.mid', 'Nottingham/train/jigs_simple_chords_90.mid', 'Nottingham/train/jigs_simple_chords_302.mid', 'Nottingham/train/morris_simple_chords_7.mid', 'Nottingham/train/playford_simple_chords_2.mid', 'Nottingham/train/reels_simple_chords_73.mid', 'Nottingham/train/reels_simple_chords_195.mid', 'Nottingham/train/reels_simple_chords_181.mid', 'Nottingham/train/reels_simple_chords_67.mid', 'Nottingham/train/jigs_simple_chords_276.mid', 'Nottingham/train/morris_simple_chords_13.mid', 'Nottingham/train/reels_simple_chords_156.mid', 'Nottingham/train/jigs_simple_chords_289.mid', 'Nottingham/train/reels_simple_chords_98.mid', 'Nottingham/train/reels_simple_chords_397.mid', 'Nottingham/train/hpps_simple_chords_50.mid', 'Nottingham/train/ashover_simple_chords_39.mid', 'Nottingham/train/hpps_simple_chords_44.mid', 'Nottingham/train/reels_simple_chords_354.mid', 'Nottingham/train/reels_simple_chords_432.mid', 'Nottingham/train/reels_simple_chords_426.mid', 'Nottingham/train/reels_simple_chords_368.mid', 'Nottingham/train/reels_simple_chords_369.mid', 'Nottingham/train/reels_simple_chords_427.mid', 'Nottingham/train/reels_simple_chords_355.mid', 'Nottingham/train/reels_simple_chords_433.mid', 'Nottingham/train/hpps_simple_chords_45.mid', 'Nottingham/train/ashover_simple_chords_38.mid', 'Nottingham/train/hpps_simple_chords_51.mid', 'Nottingham/train/reels_simple_chords_396.mid', 'Nottingham/train/jigs_simple_chords_288.mid', 'Nottingham/train/reels_simple_chords_99.mid', 'Nottingham/train/morris_simple_chords_12.mid', 'Nottingham/train/reels_simple_chords_157.mid', 'Nottingham/train/reels_simple_chords_180.mid', 'Nottingham/train/reels_simple_chords_66.mid', 'Nottingham/train/jigs_simple_chords_277.mid', 'Nottingham/train/reels_simple_chords_72.mid', 'Nottingham/train/reels_simple_chords_194.mid', 'Nottingham/train/playford_simple_chords_3.mid', 'Nottingham/train/morris_simple_chords_6.mid', 'Nottingham/train/jigs_simple_chords_303.mid', 'Nottingham/train/jigs_simple_chords_91.mid', 'Nottingham/train/jigs_simple_chords_85.mid', 'Nottingham/train/reels_simple_chords_235.mid', 'Nottingham/train/jigs_simple_chords_129.mid', 'Nottingham/train/jigs_simple_chords_115.mid', 'Nottingham/train/jigs_simple_chords_103.mid', 'Nottingham/train/jigs_simple_chords_117.mid', 'Nottingham/train/jigs_simple_chords_78.mid', 'Nottingham/train/jigs_simple_chords_50.mid', 'Nottingham/train/jigs_simple_chords_44.mid', 'Nottingham/train/waltzes_simple_chords_14.mid', 'Nottingham/train/reels_simple_chords_237.mid', 'Nottingham/train/reels_simple_chords_223.mid', 'Nottingham/train/jigs_simple_chords_93.mid', 'Nottingham/train/jigs_simple_chords_87.mid', 'Nottingham/train/jigs_simple_chords_301.mid', 'Nottingham/train/jigs_simple_chords_315.mid', 'Nottingham/train/playford_simple_chords_1.mid', 'Nottingham/train/reels_simple_chords_182.mid', 'Nottingham/train/jigs_simple_chords_261.mid', 'Nottingham/train/jigs_simple_chords_249.mid', 'Nottingham/train/reels_simple_chords_141.mid', 'Nottingham/train/reels_simple_chords_7.mid', 'Nottingham/train/reels_simple_chords_169.mid', 'Nottingham/train/jigs_simple_chords_9.mid', 'Nottingham/train/reels_simple_chords_380.mid', 'Nottingham/train/ashover_simple_chords_12.mid', 'Nottingham/train/reels_simple_chords_343.mid', 'Nottingham/train/reels_simple_chords_357.mid', 'Nottingham/train/reels_simple_chords_356.mid', 'Nottingham/train/reels_simple_chords_342.mid', 'Nottingham/train/reels_simple_chords_381.mid', 'Nottingham/train/ashover_simple_chords_13.mid', 'Nottingham/train/reels_simple_chords_168.mid', 'Nottingham/train/jigs_simple_chords_8.mid', 'Nottingham/train/reels_simple_chords_6.mid', 'Nottingham/train/reels_simple_chords_140.mid', 'Nottingham/train/jigs_simple_chords_248.mid', 'Nottingham/train/jigs_simple_chords_260.mid', 'Nottingham/train/reels_simple_chords_183.mid', 'Nottingham/train/jigs_simple_chords_314.mid', 'Nottingham/train/jigs_simple_chords_300.mid', 'Nottingham/train/jigs_simple_chords_86.mid', 'Nottingham/train/jigs_simple_chords_92.mid', 'Nottingham/train/reels_simple_chords_222.mid', 'Nottingham/train/reels_simple_chords_236.mid', 'Nottingham/train/waltzes_simple_chords_15.mid', 'Nottingham/train/jigs_simple_chords_45.mid', 'Nottingham/train/jigs_simple_chords_51.mid', 'Nottingham/train/jigs_simple_chords_116.mid', 'Nottingham/train/jigs_simple_chords_79.mid', 'Nottingham/train/jigs_simple_chords_102.mid', 'Nottingham/train/jigs_simple_chords_74.mid', 'Nottingham/train/waltzes_simple_chords_24.mid', 'Nottingham/train/waltzes_simple_chords_30.mid', 'Nottingham/train/jigs_simple_chords_60.mid', 'Nottingham/train/jigs_simple_chords_127.mid', 'Nottingham/train/waltzes_simple_chords_18.mid', 'Nottingham/train/jigs_simple_chords_48.mid', 'Nottingham/train/jigs_simple_chords_133.mid', 'Nottingham/train/reels_simple_chords_213.mid', 'Nottingham/train/slip_simple_chords_1.mid', 'Nottingham/train/reels_simple_chords_207.mid', 'Nottingham/train/jigs_simple_chords_319.mid', 'Nottingham/train/morris_simple_chords_8.mid', 'Nottingham/train/jigs_simple_chords_325.mid', 'Nottingham/train/jigs_simple_chords_331.mid', 'Nottingham/train/reels_simple_chords_68.mid', 'Nottingham/train/jigs_simple_chords_279.mid', 'Nottingham/train/reels_simple_chords_54.mid', 'Nottingham/train/reels_simple_chords_159.mid', 'Nottingham/train/reels_simple_chords_165.mid', 'Nottingham/train/morris_simple_chords_20.mid', 'Nottingham/train/reels_simple_chords_97.mid', 'Nottingham/train/reels_simple_chords_171.mid', 'Nottingham/train/hpps_simple_chords_63.mid', 'Nottingham/train/reels_simple_chords_398.mid', 'Nottingham/train/ashover_simple_chords_36.mid', 'Nottingham/train/reels_simple_chords_429.mid', 'Nottingham/train/reels_simple_chords_367.mid', 'Nottingham/train/reels_simple_chords_373.mid', 'Nottingham/train/reels_simple_chords_415.mid', 'Nottingham/train/reels_simple_chords_372.mid', 'Nottingham/train/reels_simple_chords_414.mid', 'Nottingham/train/reels_simple_chords_366.mid', 'Nottingham/train/reels_simple_chords_428.mid', 'Nottingham/train/ashover_simple_chords_37.mid', 'Nottingham/train/hpps_simple_chords_62.mid', 'Nottingham/train/reels_simple_chords_399.mid', 'Nottingham/train/reels_simple_chords_96.mid', 'Nottingham/train/reels_simple_chords_170.mid', 'Nottingham/train/reels_simple_chords_164.mid', 'Nottingham/train/morris_simple_chords_21.mid', 'Nottingham/train/reels_simple_chords_158.mid', 'Nottingham/train/reels_simple_chords_55.mid', 'Nottingham/train/reels_simple_chords_69.mid', 'Nottingham/train/jigs_simple_chords_278.mid', 'Nottingham/train/jigs_simple_chords_330.mid', 'Nottingham/train/jigs_simple_chords_324.mid', 'Nottingham/train/morris_simple_chords_9.mid', 'Nottingham/train/jigs_simple_chords_318.mid', 'Nottingham/train/reels_simple_chords_206.mid', 'Nottingham/train/reels_simple_chords_212.mid', 'Nottingham/train/jigs_simple_chords_132.mid', 'Nottingham/train/jigs_simple_chords_126.mid', 'Nottingham/train/jigs_simple_chords_49.mid', 'Nottingham/train/waltzes_simple_chords_19.mid', 'Nottingham/train/jigs_simple_chords_61.mid', 'Nottingham/train/waltzes_simple_chords_31.mid', 'Nottingham/train/waltzes_simple_chords_25.mid', 'Nottingham/train/jigs_simple_chords_75.mid', 'Nottingham/train/waltzes_simple_chords_33.mid', 'Nottingham/train/jigs_simple_chords_63.mid', 'Nottingham/train/waltzes_simple_chords_27.mid', 'Nottingham/train/slip_simple_chords_2.mid', 'Nottingham/train/reels_simple_chords_204.mid', 'Nottingham/train/reels_simple_chords_210.mid', 'Nottingham/train/jigs_simple_chords_332.mid', 'Nottingham/train/jigs_simple_chords_326.mid', 'Nottingham/train/reels_simple_chords_199.mid', 'Nottingham/train/jigs_simple_chords_246.mid', 'Nottingham/train/reels_simple_chords_57.mid', 'Nottingham/train/reels_simple_chords_43.mid', 'Nottingham/train/jigs_simple_chords_252.mid', 'Nottingham/train/reels_simple_chords_8.mid', 'Nottingham/train/jigs_simple_chords_285.mid', 'Nottingham/train/jigs_simple_chords_291.mid', 'Nottingham/train/reels_simple_chords_80.mid', 'Nottingham/train/jigs_simple_chords_6.mid', 'Nottingham/train/hpps_simple_chords_60.mid', 'Nottingham/train/hpps_simple_chords_48.mid', 'Nottingham/train/ashover_simple_chords_21.mid', 'Nottingham/train/reels_simple_chords_416.mid', 'Nottingham/train/reels_simple_chords_402.mid', 'Nottingham/train/reels_simple_chords_403.mid', 'Nottingham/train/reels_simple_chords_417.mid', 'Nottingham/train/ashover_simple_chords_20.mid', 'Nottingham/train/hpps_simple_chords_49.mid', 'Nottingham/train/hpps_simple_chords_61.mid', 'Nottingham/train/jigs_simple_chords_7.mid', 'Nottingham/train/jigs_simple_chords_290.mid', 'Nottingham/train/reels_simple_chords_81.mid', 'Nottingham/train/jigs_simple_chords_284.mid', 'Nottingham/train/reels_simple_chords_9.mid', 'Nottingham/train/reels_simple_chords_42.mid', 'Nottingham/train/jigs_simple_chords_253.mid', 'Nottingham/train/jigs_simple_chords_247.mid', 'Nottingham/train/reels_simple_chords_56.mid', 'Nottingham/train/reels_simple_chords_198.mid', 'Nottingham/train/jigs_simple_chords_327.mid', 'Nottingham/train/jigs_simple_chords_333.mid', 'Nottingham/train/reels_simple_chords_211.mid', 'Nottingham/train/reels_simple_chords_205.mid', 'Nottingham/train/slip_simple_chords_3.mid', 'Nottingham/train/waltzes_simple_chords_26.mid', 'Nottingham/train/jigs_simple_chords_62.mid', 'Nottingham/train/waltzes_simple_chords_32.mid', 'Nottingham/train/jigs_simple_chords_135.mid', 'Nottingham/train/jigs_simple_chords_121.mid', 'Nottingham/train/waltzes_simple_chords_36.mid', 'Nottingham/train/jigs_simple_chords_66.mid', 'Nottingham/train/jigs_simple_chords_109.mid', 'Nottingham/train/jigs_simple_chords_72.mid', 'Nottingham/train/reels_simple_chords_201.mid', 'Nottingham/train/slip_simple_chords_7.mid', 'Nottingham/train/jigs_simple_chords_99.mid', 'Nottingham/train/reels_simple_chords_229.mid', 'Nottingham/train/jigs_simple_chords_337.mid', 'Nottingham/train/jigs_simple_chords_243.mid', 'Nottingham/train/reels_simple_chords_188.mid', 'Nottingham/train/reels_simple_chords_91.mid', 'Nottingham/train/reels_simple_chords_177.mid', 'Nottingham/train/reels_simple_chords_163.mid', 'Nottingham/train/reels_simple_chords_85.mid', 'Nottingham/train/morris_simple_chords_26.mid', 'Nottingham/train/jigs_simple_chords_294.mid', 'Nottingham/train/jigs_simple_chords_3.mid', 'Nottingham/train/ashover_simple_chords_24.mid', 'Nottingham/train/ashover_simple_chords_30.mid', 'Nottingham/train/ashover_simple_chords_18.mid', 'Nottingham/train/reels_simple_chords_375.mid', 'Nottingham/train/reels_simple_chords_361.mid', 'Nottingham/train/reels_simple_chords_349.mid', 'Nottingham/train/reels_simple_chords_348.mid', 'Nottingham/train/reels_simple_chords_360.mid', 'Nottingham/train/reels_simple_chords_374.mid', 'Nottingham/train/ashover_simple_chords_19.mid', 'Nottingham/train/ashover_simple_chords_31.mid', 'Nottingham/train/ashover_simple_chords_25.mid', 'Nottingham/train/reels_simple_chords_162.mid', 'Nottingham/train/jigs_simple_chords_2.mid', 'Nottingham/train/morris_simple_chords_27.mid', 'Nottingham/train/reels_simple_chords_84.mid', 'Nottingham/train/jigs_simple_chords_295.mid', 'Nottingham/train/reels_simple_chords_90.mid', 'Nottingham/train/reels_simple_chords_176.mid', 'Nottingham/train/reels_simple_chords_189.mid', 'Nottingham/train/jigs_simple_chords_242.mid', 'Nottingham/train/jigs_simple_chords_336.mid', 'Nottingham/train/reels_simple_chords_228.mid', 'Nottingham/train/jigs_simple_chords_98.mid', 'Nottingham/train/slip_simple_chords_6.mid', 'Nottingham/train/reels_simple_chords_200.mid', 'Nottingham/train/jigs_simple_chords_73.mid', 'Nottingham/train/jigs_simple_chords_67.mid', 'Nottingham/train/waltzes_simple_chords_37.mid', 'Nottingham/train/jigs_simple_chords_108.mid', 'Nottingham/train/jigs_simple_chords_120.mid', 'Nottingham/train/jigs_simple_chords_134.mid', 'Nottingham/train/jigs_simple_chords_122.mid', 'Nottingham/train/waltzes_simple_chords_21.mid', 'Nottingham/train/reels_simple_chords_216.mid', 'Nottingham/train/jigs_simple_chords_320.mid', 'Nottingham/train/jigs_simple_chords_308.mid', 'Nottingham/train/playford_simple_chords_8.mid', 'Nottingham/train/reels_simple_chords_45.mid', 'Nottingham/train/jigs_simple_chords_254.mid', 'Nottingham/train/jigs_simple_chords_240.mid', 'Nottingham/train/reels_simple_chords_51.mid', 'Nottingham/train/reels_simple_chords_79.mid', 'Nottingham/train/jigs_simple_chords_297.mid', 'Nottingham/train/reels_simple_chords_86.mid', 'Nottingham/train/morris_simple_chords_25.mid', 'Nottingham/train/reels_simple_chords_174.mid', 'Nottingham/train/morris_simple_chords_31.mid', 'Nottingham/train/reels_simple_chords_92.mid', 'Nottingham/train/jigs_simple_chords_283.mid', 'Nottingham/train/morris_simple_chords_19.mid', 'Nottingham/train/ashover_simple_chords_33.mid', 'Nottingham/train/ashover_simple_chords_27.mid', 'Nottingham/train/reels_simple_chords_362.mid', 'Nottingham/train/reels_simple_chords_404.mid', 'Nottingham/train/reels_simple_chords_410.mid', 'Nottingham/train/reels_simple_chords_438.mid', 'Nottingham/train/reels_simple_chords_439.mid', 'Nottingham/train/reels_simple_chords_411.mid', 'Nottingham/train/reels_simple_chords_363.mid', 'Nottingham/train/reels_simple_chords_405.mid', 'Nottingham/train/ashover_simple_chords_26.mid', 'Nottingham/train/ashover_simple_chords_32.mid', 'Nottingham/train/morris_simple_chords_18.mid', 'Nottingham/train/reels_simple_chords_175.mid', 'Nottingham/train/reels_simple_chords_93.mid', 'Nottingham/train/morris_simple_chords_30.mid', 'Nottingham/train/jigs_simple_chords_282.mid', 'Nottingham/train/jigs_simple_chords_1.mid', 'Nottingham/train/jigs_simple_chords_296.mid', 'Nottingham/train/morris_simple_chords_24.mid', 'Nottingham/train/reels_simple_chords_87.mid', 'Nottingham/train/reels_simple_chords_78.mid', 'Nottingham/train/jigs_simple_chords_241.mid', 'Nottingham/train/reels_simple_chords_50.mid', 'Nottingham/train/reels_simple_chords_44.mid', 'Nottingham/train/jigs_simple_chords_255.mid', 'Nottingham/train/playford_simple_chords_9.mid', 'Nottingham/train/jigs_simple_chords_309.mid', 'Nottingham/train/jigs_simple_chords_321.mid', 'Nottingham/train/reels_simple_chords_217.mid', 'Nottingham/train/waltzes_simple_chords_20.mid', 'Nottingham/train/jigs_simple_chords_123.mid', 'Nottingham/train/jigs_simple_chords_144.mid', 'Nottingham/train/jigs_simple_chords_150.mid', 'Nottingham/train/reels_simple_chords_258.mid', 'Nottingham/train/reels_simple_chords_270.mid', 'Nottingham/train/jigs_simple_chords_187.mid', 'Nottingham/train/xmas_simple_chords_13.mid', 'Nottingham/train/jigs_simple_chords_193.mid', 'Nottingham/train/reels_simple_chords_264.mid', 'Nottingham/train/waltzes_simple_chords_7.mid', 'Nottingham/train/reels_simple_chords_37.mid', 'Nottingham/train/hpps_simple_chords_14.mid', 'Nottingham/train/reels_simple_chords_338.mid', 'Nottingham/train/reels_simple_chords_462.mid', 'Nottingham/train/reels_simple_chords_463.mid', 'Nottingham/train/reels_simple_chords_339.mid', 'Nottingham/train/hpps_simple_chords_15.mid', 'Nottingham/train/xmas_simple_chords_1.mid', 'Nottingham/train/reels_simple_chords_36.mid', 'Nottingham/train/waltzes_simple_chords_6.mid', 'Nottingham/train/jigs_simple_chords_192.mid', 'Nottingham/train/xmas_simple_chords_12.mid', 'Nottingham/train/reels_simple_chords_265.mid', 'Nottingham/train/reels_simple_chords_271.mid', 'Nottingham/train/jigs_simple_chords_186.mid', 'Nottingham/train/reels_simple_chords_259.mid', 'Nottingham/train/jigs_simple_chords_151.mid', 'Nottingham/train/jigs_simple_chords_145.mid', 'Nottingham/train/waltzes_simple_chords_50.mid', 'Nottingham/train/waltzes_simple_chords_44.mid', 'Nottingham/train/jigs_simple_chords_14.mid', 'Nottingham/train/jigs_simple_chords_153.mid', 'Nottingham/train/jigs_simple_chords_147.mid', 'Nottingham/train/reels_simple_chords_267.mid', 'Nottingham/train/reels_simple_chords_273.mid', 'Nottingham/train/ashover_simple_chords_6.mid', 'Nottingham/train/jigs_simple_chords_219.mid', 'Nottingham/train/jigs_simple_chords_225.mid', 'Nottingham/train/jigs_simple_chords_231.mid', 'Nottingham/train/reels_simple_chords_20.mid', 'Nottingham/train/reels_simple_chords_139.mid', 'Nottingham/train/xmas_simple_chords_3.mid', 'Nottingham/train/reels_simple_chords_111.mid', 'Nottingham/train/reels_simple_chords_105.mid', 'Nottingham/train/ashover_simple_chords_42.mid', 'Nottingham/train/reels_simple_chords_313.mid', 'Nottingham/train/reels_simple_chords_307.mid', 'Nottingham/train/reels_simple_chords_306.mid', 'Nottingham/train/reels_simple_chords_312.mid', 'Nottingham/train/ashover_simple_chords_43.mid', 'Nottingham/train/reels_simple_chords_104.mid', 'Nottingham/train/reels_simple_chords_110.mid', 'Nottingham/train/reels_simple_chords_138.mid', 'Nottingham/train/xmas_simple_chords_2.mid', 'Nottingham/train/jigs_simple_chords_230.mid', 'Nottingham/train/reels_simple_chords_21.mid', 'Nottingham/train/jigs_simple_chords_224.mid', 'Nottingham/train/jigs_simple_chords_218.mid', 'Nottingham/train/ashover_simple_chords_7.mid', 'Nottingham/train/reels_simple_chords_272.mid', 'Nottingham/train/reels_simple_chords_266.mid', 'Nottingham/train/jigs_simple_chords_146.mid', 'Nottingham/train/jigs_simple_chords_152.mid', 'Nottingham/train/jigs_simple_chords_15.mid', 'Nottingham/train/waltzes_simple_chords_45.mid', 'Nottingham/train/waltzes_simple_chords_51.mid', 'Nottingham/train/jigs_simple_chords_156.mid', 'Nottingham/train/jigs_simple_chords_39.mid', 'Nottingham/train/reels_simple_chords_289.mid', 'Nottingham/train/jigs_simple_chords_195.mid', 'Nottingham/train/reels_simple_chords_276.mid', 'Nottingham/train/jigs_simple_chords_181.mid', 'Nottingham/train/waltzes_simple_chords_1.mid', 'Nottingham/train/ashover_simple_chords_3.mid', 'Nottingham/train/reels_simple_chords_31.mid', 'Nottingham/train/reels_simple_chords_25.mid', 'Nottingham/train/jigs_simple_chords_234.mid', 'Nottingham/train/reels_simple_chords_19.mid', 'Nottingham/train/reels_simple_chords_114.mid', 'Nottingham/train/reels_simple_chords_128.mid', 'Nottingham/train/xmas_simple_chords_6.mid', 'Nottingham/train/hpps_simple_chords_12.mid', 'Nottingham/train/reels_simple_chords_302.mid', 'Nottingham/train/reels_simple_chords_464.mid', 'Nottingham/train/reels_simple_chords_458.mid', 'Nottingham/train/reels_simple_chords_459.mid', 'Nottingham/train/reels_simple_chords_303.mid', 'Nottingham/train/hpps_simple_chords_13.mid', 'Nottingham/train/xmas_simple_chords_7.mid', 'Nottingham/train/reels_simple_chords_129.mid', 'Nottingham/train/reels_simple_chords_115.mid', 'Nottingham/train/reels_simple_chords_18.mid', 'Nottingham/train/reels_simple_chords_24.mid', 'Nottingham/train/jigs_simple_chords_235.mid', 'Nottingham/train/reels_simple_chords_30.mid', 'Nottingham/train/ashover_simple_chords_2.mid', 'Nottingham/train/reels_simple_chords_277.mid', 'Nottingham/train/jigs_simple_chords_180.mid', 'Nottingham/train/jigs_simple_chords_194.mid', 'Nottingham/train/reels_simple_chords_288.mid', 'Nottingham/train/jigs_simple_chords_157.mid', 'Nottingham/train/jigs_simple_chords_38.mid', 'Nottingham/train/jigs_simple_chords_141.mid', 'Nottingham/train/waltzes_simple_chords_42.mid', 'Nottingham/train/jigs_simple_chords_12.mid', 'Nottingham/train/jigs_simple_chords_169.mid', 'Nottingham/train/jigs_simple_chords_182.mid', 'Nottingham/train/reels_simple_chords_261.mid', 'Nottingham/train/reels_simple_chords_249.mid', 'Nottingham/train/waltzes_simple_chords_2.mid', 'Nottingham/train/jigs_simple_chords_237.mid', 'Nottingham/train/reels_simple_chords_26.mid', 'Nottingham/train/reels_simple_chords_32.mid', 'Nottingham/train/jigs_simple_chords_223.mid', 'Nottingham/train/hpps_simple_chords_9.mid', 'Nottingham/train/reels_simple_chords_103.mid', 'Nottingham/train/reels_simple_chords_117.mid', 'Nottingham/train/hpps_simple_chords_39.mid', 'Nottingham/train/ashover_simple_chords_44.mid', 'Nottingham/train/reels_simple_chords_301.mid', 'Nottingham/train/reels_simple_chords_315.mid', 'Nottingham/train/reels_simple_chords_314.mid', 'Nottingham/train/reels_simple_chords_300.mid', 'Nottingham/train/ashover_simple_chords_45.mid', 'Nottingham/train/hpps_simple_chords_38.mid', 'Nottingham/train/reels_simple_chords_116.mid', 'Nottingham/train/reels_simple_chords_102.mid', 'Nottingham/train/hpps_simple_chords_8.mid', 'Nottingham/train/reels_simple_chords_33.mid', 'Nottingham/train/jigs_simple_chords_222.mid', 'Nottingham/train/jigs_simple_chords_236.mid', 'Nottingham/train/reels_simple_chords_27.mid', 'Nottingham/train/ashover_simple_chords_1.mid', 'Nottingham/train/waltzes_simple_chords_3.mid', 'Nottingham/train/reels_simple_chords_248.mid', 'Nottingham/train/reels_simple_chords_260.mid', 'Nottingham/train/jigs_simple_chords_183.mid', 'Nottingham/train/jigs_simple_chords_168.mid', 'Nottingham/train/jigs_simple_chords_13.mid', 'Nottingham/train/waltzes_simple_chords_43.mid', 'Nottingham/train/jigs_simple_chords_140.mid']\n"
     ]
    }
   ],
   "source": [
    "batch_size = 64  # Batch size for training.\n",
    "epochs = 100  # Number of epochs to train for.\n",
    "latent_dim = 256  # Latent dimensionality of the encoding space.\n",
    "num_samples = 10000  # Number of samples to train on.\n",
    "# Path to the data txt file on disk.\n",
    "data_path = 'Nottingham/train'\n",
    "# look for all the files in the folder\n",
    "itemPath = [] # store all the files path in list\n",
    "for file in os.walk(data_path):\n",
    "    for itm in file:\n",
    "        for item in itm:\n",
    "            if item.endswith(\".mid\"):\n",
    "                itemPath.append(str(data_path+\"/\" + item)) \n",
    "print(itemPath)"
   ]
  },
  {
   "cell_type": "code",
   "execution_count": 201,
   "metadata": {
    "scrolled": true
   },
   "outputs": [
    {
     "name": "stderr",
     "output_type": "stream",
     "text": [
      "/Users/demili/anaconda3/lib/python3.6/site-packages/pretty_midi-0.2.8-py3.6.egg/pretty_midi/pretty_midi.py:100: RuntimeWarning: Tempo, Key or Time signature change events found on non-zero tracks.  This is not a valid type 0 or type 1 MIDI file.  Tempo, Key or Time Signature may be wrong.\n"
     ]
    },
    {
     "name": "stdout",
     "output_type": "stream",
     "text": [
      "[Note(start=0.500000, end=1.998958, pitch=58, velocity=75), Note(start=0.500000, end=1.998958, pitch=62, velocity=75), Note(start=0.500000, end=1.998958, pitch=65, velocity=75), Note(start=2.000000, end=3.498958, pitch=58, velocity=75), Note(start=2.000000, end=3.498958, pitch=62, velocity=75), Note(start=2.000000, end=3.498958, pitch=65, velocity=75), Note(start=3.500000, end=4.998958, pitch=58, velocity=75), Note(start=3.500000, end=4.998958, pitch=62, velocity=75), Note(start=3.500000, end=4.998958, pitch=65, velocity=75), Note(start=5.000000, end=6.498958, pitch=51, velocity=75), Note(start=5.000000, end=6.498958, pitch=55, velocity=75), Note(start=5.000000, end=6.498958, pitch=58, velocity=75), Note(start=6.500000, end=7.998958, pitch=53, velocity=75), Note(start=6.500000, end=7.998958, pitch=57, velocity=75), Note(start=6.500000, end=7.998958, pitch=60, velocity=75), Note(start=6.500000, end=7.998958, pitch=63, velocity=75), Note(start=8.000000, end=9.498958, pitch=53, velocity=75), Note(start=8.000000, end=9.498958, pitch=57, velocity=75), Note(start=8.000000, end=9.498958, pitch=60, velocity=75), Note(start=8.000000, end=9.498958, pitch=63, velocity=75), Note(start=9.500000, end=10.998958, pitch=53, velocity=75), Note(start=9.500000, end=10.998958, pitch=57, velocity=75), Note(start=9.500000, end=10.998958, pitch=60, velocity=75), Note(start=9.500000, end=10.998958, pitch=63, velocity=75), Note(start=11.000000, end=12.498958, pitch=53, velocity=75), Note(start=11.000000, end=12.498958, pitch=57, velocity=75), Note(start=11.000000, end=12.498958, pitch=60, velocity=75), Note(start=11.000000, end=12.498958, pitch=63, velocity=75), Note(start=12.500000, end=13.998958, pitch=58, velocity=75), Note(start=12.500000, end=13.998958, pitch=62, velocity=75), Note(start=12.500000, end=13.998958, pitch=65, velocity=75), Note(start=14.000000, end=15.498958, pitch=58, velocity=75), Note(start=14.000000, end=15.498958, pitch=62, velocity=75), Note(start=14.000000, end=15.498958, pitch=65, velocity=75), Note(start=15.500000, end=16.998958, pitch=58, velocity=75), Note(start=15.500000, end=16.998958, pitch=62, velocity=75), Note(start=15.500000, end=16.998958, pitch=65, velocity=75), Note(start=17.000000, end=18.498958, pitch=51, velocity=75), Note(start=17.000000, end=18.498958, pitch=55, velocity=75), Note(start=17.000000, end=18.498958, pitch=58, velocity=75), Note(start=18.500000, end=19.998958, pitch=53, velocity=75), Note(start=18.500000, end=19.998958, pitch=57, velocity=75), Note(start=18.500000, end=19.998958, pitch=60, velocity=75), Note(start=18.500000, end=19.998958, pitch=63, velocity=75), Note(start=20.000000, end=21.498958, pitch=53, velocity=75), Note(start=20.000000, end=21.498958, pitch=57, velocity=75), Note(start=20.000000, end=21.498958, pitch=60, velocity=75), Note(start=20.000000, end=21.498958, pitch=63, velocity=75), Note(start=21.500000, end=22.998958, pitch=53, velocity=75), Note(start=21.500000, end=22.998958, pitch=57, velocity=75), Note(start=21.500000, end=22.998958, pitch=60, velocity=75), Note(start=21.500000, end=22.998958, pitch=63, velocity=75), Note(start=23.000000, end=24.498958, pitch=58, velocity=75), Note(start=23.000000, end=24.498958, pitch=62, velocity=75), Note(start=23.000000, end=24.498958, pitch=65, velocity=75), Note(start=24.500000, end=25.998958, pitch=58, velocity=75), Note(start=24.500000, end=25.998958, pitch=62, velocity=75), Note(start=24.500000, end=25.998958, pitch=65, velocity=75), Note(start=26.000000, end=27.498958, pitch=58, velocity=75), Note(start=26.000000, end=27.498958, pitch=62, velocity=75), Note(start=26.000000, end=27.498958, pitch=65, velocity=75), Note(start=27.500000, end=28.998958, pitch=58, velocity=75), Note(start=27.500000, end=28.998958, pitch=62, velocity=75), Note(start=27.500000, end=28.998958, pitch=65, velocity=75), Note(start=29.000000, end=30.498958, pitch=58, velocity=75), Note(start=29.000000, end=30.498958, pitch=62, velocity=75), Note(start=29.000000, end=30.498958, pitch=65, velocity=75), Note(start=30.500000, end=31.998958, pitch=53, velocity=75), Note(start=30.500000, end=31.998958, pitch=57, velocity=75), Note(start=30.500000, end=31.998958, pitch=60, velocity=75), Note(start=30.500000, end=31.998958, pitch=63, velocity=75), Note(start=32.000000, end=33.498958, pitch=53, velocity=75), Note(start=32.000000, end=33.498958, pitch=57, velocity=75), Note(start=32.000000, end=33.498958, pitch=60, velocity=75), Note(start=32.000000, end=33.498958, pitch=63, velocity=75), Note(start=33.500000, end=34.998958, pitch=53, velocity=75), Note(start=33.500000, end=34.998958, pitch=57, velocity=75), Note(start=33.500000, end=34.998958, pitch=60, velocity=75), Note(start=33.500000, end=34.998958, pitch=63, velocity=75), Note(start=35.000000, end=36.498958, pitch=58, velocity=75), Note(start=35.000000, end=36.498958, pitch=62, velocity=75), Note(start=35.000000, end=36.498958, pitch=65, velocity=75), Note(start=36.500000, end=37.998958, pitch=58, velocity=75), Note(start=36.500000, end=37.998958, pitch=62, velocity=75), Note(start=36.500000, end=37.998958, pitch=65, velocity=75), Note(start=38.000000, end=39.498958, pitch=58, velocity=75), Note(start=38.000000, end=39.498958, pitch=62, velocity=75), Note(start=38.000000, end=39.498958, pitch=65, velocity=75), Note(start=39.500000, end=40.998958, pitch=58, velocity=75), Note(start=39.500000, end=40.998958, pitch=62, velocity=75), Note(start=39.500000, end=40.998958, pitch=65, velocity=75), Note(start=41.000000, end=42.498958, pitch=58, velocity=75), Note(start=41.000000, end=42.498958, pitch=62, velocity=75), Note(start=41.000000, end=42.498958, pitch=65, velocity=75), Note(start=42.500000, end=43.998958, pitch=53, velocity=75), Note(start=42.500000, end=43.998958, pitch=57, velocity=75), Note(start=42.500000, end=43.998958, pitch=60, velocity=75), Note(start=42.500000, end=43.998958, pitch=63, velocity=75), Note(start=44.000000, end=45.498958, pitch=53, velocity=75), Note(start=44.000000, end=45.498958, pitch=57, velocity=75), Note(start=44.000000, end=45.498958, pitch=60, velocity=75), Note(start=44.000000, end=45.498958, pitch=63, velocity=75), Note(start=45.500000, end=46.998958, pitch=53, velocity=75), Note(start=45.500000, end=46.998958, pitch=57, velocity=75), Note(start=45.500000, end=46.998958, pitch=60, velocity=75), Note(start=45.500000, end=46.998958, pitch=63, velocity=75), Note(start=47.000000, end=48.498958, pitch=58, velocity=75), Note(start=47.000000, end=48.498958, pitch=62, velocity=75), Note(start=47.000000, end=48.498958, pitch=65, velocity=75)]\n"
     ]
    }
   ],
   "source": [
    "# differentiate the lead melody and the accompanied chords here\n",
    "lead_input = []# lead melody data\n",
    "accp_input = []# accompaniment data\n",
    "for i in itemPath:\n",
    "    midi_file_read = pretty_midi.PrettyMIDI(i)\n",
    "    if len(midi_file_read.instruments) >= 2:\n",
    "        lead_input.append(midi_file_read.instruments[0].notes)\n",
    "        accp_input.append(midi_file_read.instruments[1].notes)\n"
   ]
  },
  {
   "cell_type": "code",
   "execution_count": 203,
   "metadata": {
    "scrolled": true
   },
   "outputs": [
    {
     "name": "stdout",
     "output_type": "stream",
     "text": [
      "685\n"
     ]
    }
   ],
   "source": [
    "print(len(accp_input))"
   ]
  },
  {
   "cell_type": "markdown",
   "metadata": {},
   "source": [
    "### Preprocessing the Data"
   ]
  },
  {
   "cell_type": "code",
   "execution_count": 417,
   "metadata": {},
   "outputs": [
    {
     "name": "stdout",
     "output_type": "stream",
     "text": [
      "446.5\n",
      "9.75\n"
     ]
    }
   ],
   "source": [
    "# deal the lead melody and accompaniment data according to the time and notes.\n",
    "# first find the maximum time duration in all the pieces, and set the interval as 0.5s\n",
    "\n",
    "max_time = max(i[-1].start for i in lead_input)\n",
    "print(max_time)\n",
    "min_time = min(i[-1].start for i in lead_input)\n",
    "print(min_time)\n",
    "\n"
   ]
  },
  {
   "cell_type": "code",
   "execution_count": 74,
   "metadata": {},
   "outputs": [
    {
     "name": "stdout",
     "output_type": "stream",
     "text": [
      "685\n"
     ]
    }
   ],
   "source": [
    "# Vectorize the data\n",
    "# the 3d list should include first:the number of training pieces(should be the same for both input and output) \n",
    "# the second number of elements should be the maximum length of time, the interval should be 0.5s\n",
    "# the third parameter is 128, suggesting the number of possible pitches from 0 to 127\n",
    "train_piece = len(lead_input)\n",
    "print(train_piece)\n",
    "\n",
    "# initialize the matrix\n",
    "encoder_input_data = np.zeros((train_piece,int(max_time*2), 128))\n",
    "decoder_input_data = np.zeros((train_piece,int(max_time*2), 128))\n",
    "decoder_target_data = np.zeros((train_piece,int(max_time*2), 128))\n",
    "\n",
    "# set the matrix\n",
    "# for i, (input_text, target_text) in enumerate(zip(input_texts, target_texts)):\n",
    "#     for t, char in enumerate(input_text):\n",
    "#         encoder_input_data[i, t, input_token_index[char]] = 1.\n",
    "#     for t, char in enumerate(target_text):\n",
    "#         # decoder_target_data is ahead of decoder_input_data by one timestep\n",
    "#         decoder_input_data[i, t, target_token_index[char]] = 1.\n",
    "#         if t > 0:\n",
    "#             # decoder_target_data will be ahead by one timestep\n",
    "#             # and will not include the start character.\n",
    "#             decoder_target_data[i, t - 1, target_token_index[char]] = 1.\n",
    "\n",
    "# set the encoder input data                 \n",
    "for i in range(train_piece):\n",
    "    piece = lead_input[i]\n",
    "    l = len(piece)\n",
    "#     t_max = piece[-1].start\n",
    "    for j in range(l):\n",
    "        min_bound = (j+1)/2\n",
    "        max_bound = (j+2)/2\n",
    "        for p in piece:\n",
    "            if min_bound <= p.start < max_bound:\n",
    "                idx = p.pitch\n",
    "                encoder_input_data[i][j][idx] = 1\n",
    "\n",
    "# set the decoder input data\n",
    "for i in range(train_piece):\n",
    "    piece2 = accp_input[i]\n",
    "    l2 = len(piece)\n",
    "    for j in range(l2):\n",
    "        min_bound = (j+1)/2\n",
    "        max_bound = (j+2)/2\n",
    "        for p2 in piece2:\n",
    "            if min_bound <= p2.start < max_bound:\n",
    "                idx2 = p2.pitch\n",
    "                decoder_input_data[i][j][idx2] = 1\n",
    "# set the decoder target data\n",
    "for i in range(train_piece):\n",
    "    piece3 = accp_input[i]\n",
    "    l3 = len(piece)\n",
    "    for j in range(l3):\n",
    "        min_bound = (j+2)/2\n",
    "        max_bound = (j+3)/2\n",
    "        for p3 in piece3:\n",
    "            if min_bound <= p3.start < max_bound:\n",
    "                idx3 = p3.pitch\n",
    "                decoder_target_data[i][j][idx3] = 1"
   ]
  },
  {
   "cell_type": "code",
   "execution_count": 206,
   "metadata": {
    "scrolled": false
   },
   "outputs": [
    {
     "name": "stdout",
     "output_type": "stream",
     "text": [
      "[0. 0. 0. 0. 0. 0. 0. 0. 0. 0. 0. 0. 0. 0. 0. 0. 0. 0. 0. 0. 0. 0. 0. 0.\n",
      " 0. 0. 0. 0. 0. 0. 0. 0. 0. 0. 0. 0. 0. 0. 0. 0. 0. 0. 0. 0. 0. 0. 0. 0.\n",
      " 0. 0. 0. 0. 0. 0. 0. 0. 0. 0. 1. 0. 0. 0. 1. 0. 0. 1. 0. 0. 0. 0. 0. 0.\n",
      " 0. 0. 0. 0. 0. 0. 0. 0. 0. 0. 0. 0. 0. 0. 0. 0. 0. 0. 0. 0. 0. 0. 0. 0.\n",
      " 0. 0. 0. 0. 0. 0. 0. 0. 0. 0. 0. 0. 0. 0. 0. 0. 0. 0. 0. 0. 0. 0. 0. 0.\n",
      " 0. 0. 0. 0. 0. 0. 0. 0.]\n"
     ]
    }
   ],
   "source": [
    "print(decoder_input_data[0][0])"
   ]
  },
  {
   "cell_type": "code",
   "execution_count": 479,
   "metadata": {},
   "outputs": [],
   "source": [
    "# train the data\n",
    "# Define an input sequence and process it.\n",
    "encoder_inputs = Input(shape=(None, 128))\n",
    "encoder = LSTM(latent_dim, return_state=True)\n",
    "encoder_outputs, state_h, state_c = encoder(encoder_inputs)\n",
    "# We discard `encoder_outputs` and only keep the states.\n",
    "encoder_states = [state_h, state_c]"
   ]
  },
  {
   "cell_type": "code",
   "execution_count": 480,
   "metadata": {},
   "outputs": [],
   "source": [
    "# Set up the decoder, using `encoder_states` as initial state.\n",
    "decoder_inputs = Input(shape=(None, 128))\n",
    "# We set up our decoder to return full output sequences,\n",
    "# and to return internal states as well. We don't use the\n",
    "# return states in the training model, but we will use them in inference.\n",
    "decoder_lstm = LSTM(latent_dim, return_sequences=True, return_state=True)\n",
    "decoder_outputs, _, _ = decoder_lstm(decoder_inputs,\n",
    "                                     initial_state=encoder_states)\n",
    "decoder_dense = Dense(128, activation='softmax')\n",
    "decoder_outputs = decoder_dense(decoder_outputs)\n"
   ]
  },
  {
   "cell_type": "code",
   "execution_count": 481,
   "metadata": {
    "scrolled": true
   },
   "outputs": [
    {
     "name": "stdout",
     "output_type": "stream",
     "text": [
      "Train on 548 samples, validate on 137 samples\n",
      "Epoch 1/100\n",
      "192/548 [=========>....................] - ETA: 1:00 - loss: 0.5534"
     ]
    },
    {
     "ename": "KeyboardInterrupt",
     "evalue": "",
     "output_type": "error",
     "traceback": [
      "\u001b[0;31m---------------------------------------------------------------------------\u001b[0m",
      "\u001b[0;31mKeyboardInterrupt\u001b[0m                         Traceback (most recent call last)",
      "\u001b[0;32m<ipython-input-481-7c52365a4947>\u001b[0m in \u001b[0;36m<module>\u001b[0;34m()\u001b[0m\n\u001b[1;32m      8\u001b[0m           \u001b[0mbatch_size\u001b[0m\u001b[0;34m=\u001b[0m\u001b[0mbatch_size\u001b[0m\u001b[0;34m,\u001b[0m\u001b[0;34m\u001b[0m\u001b[0m\n\u001b[1;32m      9\u001b[0m           \u001b[0mepochs\u001b[0m\u001b[0;34m=\u001b[0m\u001b[0mepochs\u001b[0m\u001b[0;34m,\u001b[0m\u001b[0;34m\u001b[0m\u001b[0m\n\u001b[0;32m---> 10\u001b[0;31m           validation_split=0.2)\n\u001b[0m\u001b[1;32m     11\u001b[0m \u001b[0;31m# Save model\u001b[0m\u001b[0;34m\u001b[0m\u001b[0;34m\u001b[0m\u001b[0m\n\u001b[1;32m     12\u001b[0m \u001b[0mmodel\u001b[0m\u001b[0;34m.\u001b[0m\u001b[0msave\u001b[0m\u001b[0;34m(\u001b[0m\u001b[0;34m's2s.h5'\u001b[0m\u001b[0;34m)\u001b[0m\u001b[0;34m\u001b[0m\u001b[0m\n",
      "\u001b[0;32m~/anaconda3/lib/python3.6/site-packages/tensorflow/python/keras/engine/training.py\u001b[0m in \u001b[0;36mfit\u001b[0;34m(self, x, y, batch_size, epochs, verbose, callbacks, validation_split, validation_data, shuffle, class_weight, sample_weight, initial_epoch, steps_per_epoch, validation_steps, max_queue_size, workers, use_multiprocessing, **kwargs)\u001b[0m\n\u001b[1;32m    878\u001b[0m           \u001b[0minitial_epoch\u001b[0m\u001b[0;34m=\u001b[0m\u001b[0minitial_epoch\u001b[0m\u001b[0;34m,\u001b[0m\u001b[0;34m\u001b[0m\u001b[0m\n\u001b[1;32m    879\u001b[0m           \u001b[0msteps_per_epoch\u001b[0m\u001b[0;34m=\u001b[0m\u001b[0msteps_per_epoch\u001b[0m\u001b[0;34m,\u001b[0m\u001b[0;34m\u001b[0m\u001b[0m\n\u001b[0;32m--> 880\u001b[0;31m           validation_steps=validation_steps)\n\u001b[0m\u001b[1;32m    881\u001b[0m \u001b[0;34m\u001b[0m\u001b[0m\n\u001b[1;32m    882\u001b[0m   def evaluate(self,\n",
      "\u001b[0;32m~/anaconda3/lib/python3.6/site-packages/tensorflow/python/keras/engine/training_arrays.py\u001b[0m in \u001b[0;36mmodel_iteration\u001b[0;34m(model, inputs, targets, sample_weights, batch_size, epochs, verbose, callbacks, val_inputs, val_targets, val_sample_weights, shuffle, initial_epoch, steps_per_epoch, validation_steps, mode, validation_in_fit, **kwargs)\u001b[0m\n\u001b[1;32m    327\u001b[0m \u001b[0;34m\u001b[0m\u001b[0m\n\u001b[1;32m    328\u001b[0m         \u001b[0;31m# Get outputs.\u001b[0m\u001b[0;34m\u001b[0m\u001b[0;34m\u001b[0m\u001b[0m\n\u001b[0;32m--> 329\u001b[0;31m         \u001b[0mbatch_outs\u001b[0m \u001b[0;34m=\u001b[0m \u001b[0mf\u001b[0m\u001b[0;34m(\u001b[0m\u001b[0mins_batch\u001b[0m\u001b[0;34m)\u001b[0m\u001b[0;34m\u001b[0m\u001b[0m\n\u001b[0m\u001b[1;32m    330\u001b[0m         \u001b[0;32mif\u001b[0m \u001b[0;32mnot\u001b[0m \u001b[0misinstance\u001b[0m\u001b[0;34m(\u001b[0m\u001b[0mbatch_outs\u001b[0m\u001b[0;34m,\u001b[0m \u001b[0mlist\u001b[0m\u001b[0;34m)\u001b[0m\u001b[0;34m:\u001b[0m\u001b[0;34m\u001b[0m\u001b[0m\n\u001b[1;32m    331\u001b[0m           \u001b[0mbatch_outs\u001b[0m \u001b[0;34m=\u001b[0m \u001b[0;34m[\u001b[0m\u001b[0mbatch_outs\u001b[0m\u001b[0;34m]\u001b[0m\u001b[0;34m\u001b[0m\u001b[0m\n",
      "\u001b[0;32m~/anaconda3/lib/python3.6/site-packages/tensorflow/python/keras/backend.py\u001b[0m in \u001b[0;36m__call__\u001b[0;34m(self, inputs)\u001b[0m\n\u001b[1;32m   3074\u001b[0m \u001b[0;34m\u001b[0m\u001b[0m\n\u001b[1;32m   3075\u001b[0m     fetched = self._callable_fn(*array_vals,\n\u001b[0;32m-> 3076\u001b[0;31m                                 run_metadata=self.run_metadata)\n\u001b[0m\u001b[1;32m   3077\u001b[0m     \u001b[0mself\u001b[0m\u001b[0;34m.\u001b[0m\u001b[0m_call_fetch_callbacks\u001b[0m\u001b[0;34m(\u001b[0m\u001b[0mfetched\u001b[0m\u001b[0;34m[\u001b[0m\u001b[0;34m-\u001b[0m\u001b[0mlen\u001b[0m\u001b[0;34m(\u001b[0m\u001b[0mself\u001b[0m\u001b[0;34m.\u001b[0m\u001b[0m_fetches\u001b[0m\u001b[0;34m)\u001b[0m\u001b[0;34m:\u001b[0m\u001b[0;34m]\u001b[0m\u001b[0;34m)\u001b[0m\u001b[0;34m\u001b[0m\u001b[0m\n\u001b[1;32m   3078\u001b[0m     return nest.pack_sequence_as(self._outputs_structure,\n",
      "\u001b[0;32m~/anaconda3/lib/python3.6/site-packages/tensorflow/python/client/session.py\u001b[0m in \u001b[0;36m__call__\u001b[0;34m(self, *args, **kwargs)\u001b[0m\n\u001b[1;32m   1437\u001b[0m           ret = tf_session.TF_SessionRunCallable(\n\u001b[1;32m   1438\u001b[0m               \u001b[0mself\u001b[0m\u001b[0;34m.\u001b[0m\u001b[0m_session\u001b[0m\u001b[0;34m.\u001b[0m\u001b[0m_session\u001b[0m\u001b[0;34m,\u001b[0m \u001b[0mself\u001b[0m\u001b[0;34m.\u001b[0m\u001b[0m_handle\u001b[0m\u001b[0;34m,\u001b[0m \u001b[0margs\u001b[0m\u001b[0;34m,\u001b[0m \u001b[0mstatus\u001b[0m\u001b[0;34m,\u001b[0m\u001b[0;34m\u001b[0m\u001b[0m\n\u001b[0;32m-> 1439\u001b[0;31m               run_metadata_ptr)\n\u001b[0m\u001b[1;32m   1440\u001b[0m         \u001b[0;32mif\u001b[0m \u001b[0mrun_metadata\u001b[0m\u001b[0;34m:\u001b[0m\u001b[0;34m\u001b[0m\u001b[0m\n\u001b[1;32m   1441\u001b[0m           \u001b[0mproto_data\u001b[0m \u001b[0;34m=\u001b[0m \u001b[0mtf_session\u001b[0m\u001b[0;34m.\u001b[0m\u001b[0mTF_GetBuffer\u001b[0m\u001b[0;34m(\u001b[0m\u001b[0mrun_metadata_ptr\u001b[0m\u001b[0;34m)\u001b[0m\u001b[0;34m\u001b[0m\u001b[0m\n",
      "\u001b[0;31mKeyboardInterrupt\u001b[0m: "
     ]
    }
   ],
   "source": [
    "# Define the model that will turn\n",
    "# `encoder_input_data` & `decoder_input_data` into `decoder_target_data`\n",
    "model = Model([encoder_inputs, decoder_inputs], decoder_outputs)\n",
    "\n",
    "# Run training\n",
    "model.compile(optimizer='rmsprop', loss='categorical_crossentropy')\n",
    "model.fit([encoder_input_data, decoder_input_data], decoder_target_data,\n",
    "          batch_size=batch_size,\n",
    "          epochs=epochs,\n",
    "          validation_split=0.2)\n",
    "# Save model\n",
    "model.save('s2s.h5')"
   ]
  },
  {
   "cell_type": "code",
   "execution_count": 467,
   "metadata": {},
   "outputs": [],
   "source": [
    "# Next: inference mode (sampling).\n",
    "# Here's the drill:\n",
    "# 1) encode input and retrieve initial decoder state\n",
    "# 2) run one step of decoder with this initial state\n",
    "# and a \"start of sequence\" token as target.\n",
    "# Output will be the next target token\n",
    "# 3) Repeat with the current target token and current states\n",
    "encoder_model = Model(encoder_inputs, encoder_states)\n",
    "\n",
    "decoder_state_input_h = Input(shape=(latent_dim,))\n",
    "decoder_state_input_c = Input(shape=(latent_dim,))\n",
    "decoder_states_inputs = [decoder_state_input_h, decoder_state_input_c]\n",
    "decoder_outputs, state_h, state_c = decoder_lstm(decoder_inputs, initial_state=decoder_states_inputs)\n",
    "decoder_states = [state_h, state_c]\n",
    "decoder_outputs = decoder_dense(decoder_outputs)\n",
    "decoder_model = Model([decoder_inputs] + decoder_states_inputs,[decoder_outputs] + decoder_states)\n"
   ]
  },
  {
   "cell_type": "code",
   "execution_count": 474,
   "metadata": {},
   "outputs": [
    {
     "name": "stdout",
     "output_type": "stream",
     "text": [
      "671\n"
     ]
    }
   ],
   "source": [
    "idx = random.randint(0,len(encoder_input_data) - 2)\n",
    "print(idx)\n"
   ]
  },
  {
   "cell_type": "code",
   "execution_count": 475,
   "metadata": {},
   "outputs": [
    {
     "name": "stdout",
     "output_type": "stream",
     "text": [
      "[[[0. 0. 0. ... 0. 0. 0.]\n",
      "  [0. 0. 0. ... 0. 0. 0.]\n",
      "  [0. 0. 0. ... 0. 0. 0.]\n",
      "  ...\n",
      "  [0. 0. 0. ... 0. 0. 0.]\n",
      "  [0. 0. 0. ... 0. 0. 0.]\n",
      "  [0. 0. 0. ... 0. 0. 0.]]]\n",
      "119\n"
     ]
    }
   ],
   "source": [
    "input_seq = encoder_input_data[idx:idx+1]\n",
    "print(input_seq)\n",
    "states_value = encoder_model.predict(input_seq)\n",
    "print(len(lead_input[idx]))"
   ]
  },
  {
   "cell_type": "code",
   "execution_count": 476,
   "metadata": {
    "scrolled": true
   },
   "outputs": [
    {
     "name": "stdout",
     "output_type": "stream",
     "text": [
      "[[0, 0, 0], [0, 0, 0], [0, 0, 0], [0, 0, 0], [0, 0, 0], [0, 0, 0], [0, 0, 0], [0, 0, 0], [0, 0, 0], [0, 0, 0], [0, 0, 0], [0, 0, 0], [0, 0, 0], [0, 0, 0], [0, 0, 0], [0, 0, 0], [0, 0, 0], [0, 0, 0], [0, 0, 0], [0, 0, 0], [0, 0, 0], [0, 0, 0], [0, 0, 0], [0, 0, 0], [0, 0, 0], [0, 0, 0], [0, 0, 0], [0, 0, 0], [0, 0, 0], [0, 0, 0], [0, 0, 0], [0, 0, 0], [0, 0, 0], [0, 0, 0], [0, 0, 0], [0, 0, 0], [0, 0, 0], [0, 0, 0], [0, 0, 0], [0, 0, 0], [0, 0, 0], [0, 0, 0], [0, 0, 0], [0, 0, 0], [0, 0, 0], [0, 0, 0], [0, 0, 0], [0, 0, 0], [0, 0, 0], [0, 0, 0], [0, 0, 0], [0, 0, 0], [0, 0, 0], [0, 0, 0], [0, 0, 0], [0, 0, 0], [0, 0, 0], [0, 0, 0], [0, 0, 0], [0, 0, 0], [0, 0, 0], [0, 0, 0], [0, 0, 0], [0, 0, 0], [0, 0, 0], [0, 0, 0], [0, 0, 0], [0, 0, 0], [0, 0, 0], [0, 0, 0], [0, 0, 0], [0, 0, 0], [0, 0, 0], [0, 0, 0], [0, 0, 0], [0, 0, 0], [0, 0, 0], [0, 0, 0], [0, 0, 0], [0, 0, 0], [0, 0, 0], [0, 0, 0], [0, 0, 0], [0, 0, 0], [0, 0, 0], [0, 0, 0], [0, 0, 0], [0, 0, 0], [0, 0, 0], [0, 0, 0], [0, 0, 0], [0, 0, 0], [0, 0, 0], [0, 0, 0], [0, 0, 0], [0, 0, 0], [0, 0, 0], [0, 0, 0], [0, 0, 0], [0, 0, 0], [0, 0, 0], [0, 0, 0], [0, 0, 0], [0, 0, 0], [0, 0, 0], [0, 0, 0], [0, 0, 0], [0, 0, 0], [0, 0, 0], [0, 0, 0], [0, 0, 0], [0, 0, 0], [0, 0, 0], [0, 0, 0], [0, 0, 0], [0, 0, 0], [0, 0, 0], [0, 0, 0], [0, 0, 0], [0, 0, 0], [0, 0, 0], [0, 0, 0], [0, 0, 0], [0, 0, 0], [0, 0, 0], [0, 0, 0], [0, 0, 0], [0, 0, 0], [0, 0, 0], [0, 0, 0], [0, 0, 0], [0, 0, 0], [0, 0, 0], [0, 0, 0], [0, 0, 0], [0, 0, 0], [0, 0, 0], [0, 0, 0], [0, 0, 0], [0, 0, 0], [0, 0, 0], [0, 0, 0], [0, 0, 0], [0, 0, 0], [0, 0, 0], [0, 0, 0], [0, 0, 0], [0, 0, 0], [0, 0, 0], [0, 0, 0], [0, 0, 0], [0, 0, 0], [0, 0, 0], [0, 0, 0], [0, 0, 0], [0, 0, 0], [0, 0, 0], [0, 0, 0], [0, 0, 0], [0, 0, 0], [0, 0, 0], [0, 0, 0], [0, 0, 0], [0, 0, 0], [0, 0, 0], [0, 0, 0], [0, 0, 0], [0, 0, 0], [0, 0, 0], [0, 0, 0], [0, 0, 0], [0, 0, 0], [0, 0, 0], [0, 0, 0], [0, 0, 0], [0, 0, 0], [0, 0, 0], [0, 0, 0], [0, 0, 0], [0, 0, 0], [0, 0, 0], [0, 0, 0], [0, 0, 0], [0, 0, 0], [0, 0, 0], [0, 0, 0], [0, 0, 0], [0, 0, 0], [0, 0, 0], [0, 0, 0], [0, 0, 0], [0, 0, 0], [0, 0, 0], [0, 0, 0], [0, 0, 0], [0, 0, 0], [0, 0, 0], [0, 0, 0], [0, 0, 0], [0, 0, 0], [0, 0, 0], [0, 0, 0], [0, 0, 0], [0, 0, 0], [0, 0, 0], [0, 0, 0], [0, 0, 0], [0, 0, 0], [0, 0, 0], [0, 0, 0], [0, 0, 0], [0, 0, 0], [0, 0, 0], [0, 0, 0], [0, 0, 0], [0, 0, 0], [0, 0, 0], [0, 0, 0], [0, 0, 0], [0, 0, 0], [0, 0, 0], [0, 0, 0], [0, 0, 0], [0, 0, 0], [0, 0, 0], [0, 0, 0], [0, 0, 0], [0, 0, 0], [0, 0, 0], [0, 0, 0], [0, 0, 0], [0, 0, 0], [0, 0, 0], [0, 0, 0], [0, 0, 0], [0, 0, 0], [0, 0, 0], [0, 0, 0], [0, 0, 0], [0, 0, 0]]\n",
      "240\n"
     ]
    }
   ],
   "source": [
    "target_seq = np.zeros((1, 1, 128))\n",
    "# print(target_seq)\n",
    "stop_condition = False\n",
    "decoded_notes = []\n",
    "times = 0\n",
    "# print(lead_input[idx][0].end - lead_input[idx][0].start)\n",
    "# print(int(len(lead_input[idx])*(0.5/(lead_input[idx][0].end - lead_input[idx][0].start))))\n",
    "while not stop_condition:\n",
    "    output_tokens, h, c = decoder_model.predict([target_seq] + states_value)\n",
    "    output_copy = copy.deepcopy(output_tokens[0,-1,:])\n",
    "    output_copy.sort()\n",
    "    chord = output_copy[-3:]\n",
    "#     print(chord)\n",
    "    d_notes = []\n",
    "    for i in chord:\n",
    "        d_notes.append(output_tokens[0,-1,:].tolist().index(i))\n",
    "        \n",
    "    decoded_notes.append(d_notes)\n",
    "    \n",
    "    if(times > int(len(lead_input[idx])*(0.5/(lead_input[idx][0].end - lead_input[idx][0].start)))):\n",
    "        stop_condition = True\n",
    "    times += 1\n",
    "    target_seq = np.zeros((1, 1, 128))\n",
    "    states_value = [h,c]\n",
    "# #     print(output_tokens[0, -1, :])\n",
    "# sampled_token_index = np.argmax(output_tokens[0, -1, :])\n",
    "# # sampled_token_index = np.argmax(output_tokens[0, :, :])\n",
    "\n",
    "# print(sampled_token_index)\n",
    "print(decoded_notes)\n",
    "\n",
    "print(len(decoded_notes))"
   ]
  },
  {
   "cell_type": "code",
   "execution_count": 477,
   "metadata": {
    "scrolled": true
   },
   "outputs": [
    {
     "name": "stdout",
     "output_type": "stream",
     "text": [
      "Nottingham/train/ashover_simple_chords_44.mid\n"
     ]
    }
   ],
   "source": [
    "print(itemPath[idx])"
   ]
  },
  {
   "cell_type": "code",
   "execution_count": 478,
   "metadata": {
    "scrolled": true
   },
   "outputs": [],
   "source": [
    "def turn_list_to_accp(lst):\n",
    "    cello_music = pretty_midi.PrettyMIDI()\n",
    "    # Create an Instrument instance for a cello instrument\n",
    "    cello = pretty_midi.Instrument(program=0)\n",
    "    start_time = 0\n",
    "    for i in range(len(lst)):\n",
    "        start_time += 0.5\n",
    "        print(start_time)\n",
    "        if i%4 == 0:\n",
    "            decodeNotes = lst[i]\n",
    "            print(decodeNotes)\n",
    "            for n in decodeNotes:\n",
    "                note = pretty_midi.Note(velocity=64, pitch=n, start=start_time, end=start_time+2)\n",
    "                cello.notes.append(note)\n",
    "    cello_music.instruments.append(cello)\n",
    "    cello_music.write('Accompaniment6.mid')\n"
   ]
  },
  {
   "cell_type": "code",
   "execution_count": 473,
   "metadata": {
    "scrolled": true
   },
   "outputs": [
    {
     "name": "stdout",
     "output_type": "stream",
     "text": [
      "0.5\n",
      "[0, 0, 0]\n",
      "1.0\n",
      "1.5\n",
      "2.0\n",
      "2.5\n",
      "[0, 0, 0]\n",
      "3.0\n",
      "3.5\n",
      "4.0\n",
      "4.5\n",
      "[0, 0, 0]\n",
      "5.0\n",
      "5.5\n",
      "6.0\n",
      "6.5\n",
      "[0, 0, 0]\n",
      "7.0\n",
      "7.5\n",
      "8.0\n",
      "8.5\n",
      "[0, 0, 0]\n",
      "9.0\n",
      "9.5\n",
      "10.0\n",
      "10.5\n",
      "[0, 0, 0]\n",
      "11.0\n",
      "11.5\n",
      "12.0\n",
      "12.5\n",
      "[0, 0, 0]\n",
      "13.0\n",
      "13.5\n",
      "14.0\n",
      "14.5\n",
      "[0, 0, 0]\n",
      "15.0\n",
      "15.5\n",
      "16.0\n",
      "16.5\n",
      "[0, 0, 0]\n",
      "17.0\n",
      "17.5\n",
      "18.0\n",
      "18.5\n",
      "[0, 0, 0]\n",
      "19.0\n",
      "19.5\n",
      "20.0\n",
      "20.5\n",
      "[0, 0, 0]\n",
      "21.0\n",
      "21.5\n",
      "22.0\n",
      "22.5\n",
      "[0, 0, 0]\n",
      "23.0\n",
      "23.5\n",
      "24.0\n",
      "24.5\n",
      "[0, 0, 0]\n",
      "25.0\n",
      "25.5\n",
      "26.0\n",
      "26.5\n",
      "[0, 0, 0]\n",
      "27.0\n",
      "27.5\n",
      "28.0\n",
      "28.5\n",
      "[0, 0, 0]\n",
      "29.0\n",
      "29.5\n",
      "30.0\n",
      "30.5\n",
      "[0, 0, 0]\n",
      "31.0\n",
      "31.5\n",
      "32.0\n",
      "32.5\n",
      "[0, 0, 0]\n",
      "33.0\n",
      "33.5\n",
      "34.0\n",
      "34.5\n",
      "[0, 0, 0]\n",
      "35.0\n",
      "35.5\n",
      "36.0\n",
      "36.5\n",
      "[0, 0, 0]\n",
      "37.0\n",
      "37.5\n",
      "38.0\n",
      "38.5\n",
      "[0, 0, 0]\n",
      "39.0\n",
      "39.5\n",
      "40.0\n",
      "40.5\n",
      "[0, 0, 0]\n",
      "41.0\n",
      "41.5\n",
      "42.0\n",
      "42.5\n",
      "[0, 0, 0]\n",
      "43.0\n",
      "43.5\n",
      "44.0\n",
      "44.5\n",
      "[0, 0, 0]\n",
      "45.0\n",
      "45.5\n",
      "46.0\n",
      "46.5\n",
      "[0, 0, 0]\n",
      "47.0\n",
      "47.5\n",
      "48.0\n",
      "48.5\n",
      "[0, 0, 0]\n",
      "49.0\n",
      "49.5\n",
      "50.0\n",
      "50.5\n",
      "[0, 0, 0]\n",
      "51.0\n",
      "51.5\n",
      "52.0\n",
      "52.5\n",
      "[0, 0, 0]\n",
      "53.0\n",
      "53.5\n",
      "54.0\n",
      "54.5\n",
      "[0, 0, 0]\n",
      "55.0\n",
      "55.5\n",
      "56.0\n",
      "56.5\n",
      "[0, 0, 0]\n",
      "57.0\n",
      "57.5\n",
      "58.0\n",
      "58.5\n",
      "[0, 0, 0]\n",
      "59.0\n",
      "59.5\n",
      "60.0\n",
      "60.5\n",
      "[0, 0, 0]\n",
      "61.0\n",
      "61.5\n",
      "62.0\n",
      "62.5\n",
      "[0, 0, 0]\n",
      "63.0\n",
      "63.5\n",
      "64.0\n",
      "64.5\n",
      "[0, 0, 0]\n",
      "65.0\n",
      "65.5\n",
      "66.0\n",
      "66.5\n",
      "[0, 0, 0]\n",
      "67.0\n",
      "67.5\n",
      "68.0\n",
      "68.5\n",
      "[0, 0, 0]\n",
      "69.0\n",
      "69.5\n",
      "70.0\n",
      "70.5\n",
      "[0, 0, 0]\n",
      "71.0\n",
      "71.5\n",
      "72.0\n",
      "72.5\n",
      "[0, 0, 0]\n",
      "73.0\n",
      "73.5\n",
      "74.0\n",
      "74.5\n",
      "[0, 0, 0]\n",
      "75.0\n",
      "75.5\n",
      "76.0\n",
      "76.5\n",
      "[0, 0, 0]\n",
      "77.0\n",
      "77.5\n",
      "78.0\n",
      "78.5\n",
      "[0, 0, 0]\n",
      "79.0\n",
      "79.5\n",
      "80.0\n",
      "80.5\n",
      "[0, 0, 0]\n",
      "81.0\n",
      "81.5\n",
      "82.0\n",
      "82.5\n",
      "[0, 0, 0]\n",
      "83.0\n",
      "83.5\n",
      "84.0\n",
      "84.5\n",
      "[0, 0, 0]\n",
      "85.0\n",
      "85.5\n",
      "86.0\n",
      "86.5\n",
      "[0, 0, 0]\n",
      "87.0\n",
      "87.5\n",
      "88.0\n",
      "88.5\n",
      "[0, 0, 0]\n",
      "89.0\n",
      "89.5\n",
      "90.0\n",
      "90.5\n",
      "[0, 0, 0]\n",
      "91.0\n",
      "91.5\n",
      "92.0\n",
      "92.5\n",
      "[0, 0, 0]\n",
      "93.0\n",
      "93.5\n",
      "94.0\n",
      "94.5\n",
      "[0, 0, 0]\n",
      "95.0\n",
      "95.5\n",
      "96.0\n",
      "96.5\n",
      "[0, 0, 0]\n",
      "97.0\n",
      "97.5\n",
      "98.0\n",
      "98.5\n",
      "[0, 0, 0]\n",
      "99.0\n",
      "99.5\n",
      "100.0\n",
      "100.5\n",
      "[0, 0, 0]\n",
      "101.0\n",
      "101.5\n",
      "102.0\n",
      "102.5\n",
      "[0, 0, 0]\n",
      "103.0\n",
      "103.5\n",
      "104.0\n",
      "104.5\n",
      "[0, 0, 0]\n",
      "105.0\n",
      "105.5\n",
      "106.0\n",
      "106.5\n",
      "[0, 0, 0]\n",
      "107.0\n",
      "107.5\n",
      "108.0\n",
      "108.5\n",
      "[0, 0, 0]\n",
      "109.0\n",
      "109.5\n",
      "110.0\n",
      "110.5\n",
      "[0, 0, 0]\n",
      "111.0\n",
      "111.5\n",
      "112.0\n",
      "112.5\n",
      "[0, 0, 0]\n",
      "113.0\n",
      "113.5\n",
      "114.0\n",
      "114.5\n",
      "[0, 0, 0]\n",
      "115.0\n",
      "115.5\n",
      "116.0\n",
      "116.5\n",
      "[0, 0, 0]\n",
      "117.0\n",
      "117.5\n",
      "118.0\n",
      "118.5\n",
      "[0, 0, 0]\n",
      "119.0\n",
      "119.5\n",
      "120.0\n",
      "120.5\n",
      "[0, 0, 0]\n",
      "121.0\n",
      "121.5\n",
      "122.0\n",
      "122.5\n",
      "[0, 0, 0]\n",
      "123.0\n",
      "123.5\n",
      "124.0\n",
      "124.5\n",
      "[0, 0, 0]\n",
      "125.0\n",
      "125.5\n",
      "126.0\n",
      "126.5\n",
      "[0, 0, 0]\n",
      "127.0\n",
      "127.5\n",
      "128.0\n",
      "128.5\n",
      "[0, 0, 0]\n",
      "129.0\n",
      "129.5\n",
      "130.0\n",
      "130.5\n",
      "[0, 0, 0]\n",
      "131.0\n",
      "131.5\n",
      "132.0\n",
      "132.5\n",
      "[0, 0, 0]\n",
      "133.0\n",
      "133.5\n",
      "134.0\n",
      "134.5\n",
      "[0, 0, 0]\n",
      "135.0\n",
      "135.5\n"
     ]
    }
   ],
   "source": [
    "turn_list_to_accp(decoded_notes)"
   ]
  },
  {
   "cell_type": "code",
   "execution_count": null,
   "metadata": {},
   "outputs": [],
   "source": []
  },
  {
   "cell_type": "code",
   "execution_count": null,
   "metadata": {},
   "outputs": [],
   "source": []
  },
  {
   "cell_type": "code",
   "execution_count": null,
   "metadata": {},
   "outputs": [],
   "source": []
  },
  {
   "cell_type": "code",
   "execution_count": null,
   "metadata": {},
   "outputs": [],
   "source": []
  },
  {
   "cell_type": "code",
   "execution_count": null,
   "metadata": {},
   "outputs": [],
   "source": []
  },
  {
   "cell_type": "code",
   "execution_count": null,
   "metadata": {},
   "outputs": [],
   "source": []
  },
  {
   "cell_type": "code",
   "execution_count": null,
   "metadata": {},
   "outputs": [],
   "source": []
  },
  {
   "cell_type": "code",
   "execution_count": null,
   "metadata": {},
   "outputs": [],
   "source": []
  },
  {
   "cell_type": "code",
   "execution_count": null,
   "metadata": {},
   "outputs": [],
   "source": []
  },
  {
   "cell_type": "code",
   "execution_count": null,
   "metadata": {},
   "outputs": [],
   "source": []
  },
  {
   "cell_type": "code",
   "execution_count": null,
   "metadata": {},
   "outputs": [],
   "source": []
  },
  {
   "cell_type": "code",
   "execution_count": null,
   "metadata": {},
   "outputs": [],
   "source": []
  },
  {
   "cell_type": "code",
   "execution_count": null,
   "metadata": {},
   "outputs": [],
   "source": []
  },
  {
   "cell_type": "code",
   "execution_count": null,
   "metadata": {},
   "outputs": [],
   "source": []
  },
  {
   "cell_type": "code",
   "execution_count": null,
   "metadata": {},
   "outputs": [],
   "source": []
  },
  {
   "cell_type": "code",
   "execution_count": null,
   "metadata": {},
   "outputs": [],
   "source": []
  },
  {
   "cell_type": "code",
   "execution_count": null,
   "metadata": {},
   "outputs": [],
   "source": []
  },
  {
   "cell_type": "code",
   "execution_count": null,
   "metadata": {},
   "outputs": [],
   "source": []
  },
  {
   "cell_type": "code",
   "execution_count": null,
   "metadata": {},
   "outputs": [],
   "source": []
  }
 ],
 "metadata": {
  "kernelspec": {
   "display_name": "Python 3",
   "language": "python",
   "name": "python3"
  },
  "language_info": {
   "codemirror_mode": {
    "name": "ipython",
    "version": 3
   },
   "file_extension": ".py",
   "mimetype": "text/x-python",
   "name": "python",
   "nbconvert_exporter": "python",
   "pygments_lexer": "ipython3",
   "version": "3.6.4"
  }
 },
 "nbformat": 4,
 "nbformat_minor": 2
}
